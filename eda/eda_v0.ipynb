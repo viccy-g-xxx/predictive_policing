{
 "cells": [
  {
   "cell_type": "code",
   "execution_count": 176,
   "id": "similar-stone",
   "metadata": {},
   "outputs": [],
   "source": [
    "import pandas as pd\n",
    "import numpy as np"
   ]
  },
  {
   "cell_type": "code",
   "execution_count": 68,
   "id": "positive-prisoner",
   "metadata": {},
   "outputs": [],
   "source": [
    "import statsmodels.api as sm\n",
    "from sklearn.ensemble import RandomForestRegressor\n",
    "from sklearn.linear_model import Lasso, LassoCV"
   ]
  },
  {
   "cell_type": "code",
   "execution_count": 30,
   "id": "8229627b-9de5-47d6-b15f-45c903296553",
   "metadata": {},
   "outputs": [],
   "source": [
    "import seaborn as sns"
   ]
  },
  {
   "cell_type": "code",
   "execution_count": 8,
   "id": "suburban-trailer",
   "metadata": {},
   "outputs": [],
   "source": [
    "from sklearn.model_selection import cross_val_score, cross_val_predict"
   ]
  },
  {
   "cell_type": "code",
   "execution_count": null,
   "id": "crazy-companion",
   "metadata": {},
   "outputs": [],
   "source": []
  },
  {
   "cell_type": "code",
   "execution_count": 119,
   "id": "tropical-google",
   "metadata": {},
   "outputs": [],
   "source": [
    "district_df = pd.read_csv(\"../data/district_case_comps.csv\")\n",
    "crime_df = pd.read_csv(\"../data/dstrIPC_1.csv\")"
   ]
  },
  {
   "cell_type": "code",
   "execution_count": 120,
   "id": "earlier-procedure",
   "metadata": {},
   "outputs": [],
   "source": [
    "crime_df[\"DISTRICT\"] = crime_df[\"DISTRICT\"].str.lower()"
   ]
  },
  {
   "cell_type": "code",
   "execution_count": 121,
   "id": "expressed-recording",
   "metadata": {},
   "outputs": [
    {
     "data": {
      "text/plain": [
       "Index(['STATE/UT', 'DISTRICT', 'YEAR', 'MURDER', 'ATTEMPT TO MURDER',\n",
       "       'CULPABLE HOMICIDE NOT AMOUNTING TO MURDER', 'RAPE', 'CUSTODIAL RAPE',\n",
       "       'OTHER RAPE', 'KIDNAPPING & ABDUCTION',\n",
       "       'KIDNAPPING AND ABDUCTION OF WOMEN AND GIRLS',\n",
       "       'KIDNAPPING AND ABDUCTION OF OTHERS', 'DACOITY',\n",
       "       'PREPARATION AND ASSEMBLY FOR DACOITY', 'ROBBERY', 'BURGLARY', 'THEFT',\n",
       "       'AUTO THEFT', 'OTHER THEFT', 'RIOTS', 'CRIMINAL BREACH OF TRUST',\n",
       "       'CHEATING', 'COUNTERFIETING', 'ARSON', 'HURT/GREVIOUS HURT',\n",
       "       'DOWRY DEATHS', 'ASSAULT ON WOMEN WITH INTENT TO OUTRAGE HER MODESTY',\n",
       "       'INSULT TO MODESTY OF WOMEN', 'CRUELTY BY HUSBAND OR HIS RELATIVES',\n",
       "       'IMPORTATION OF GIRLS FROM FOREIGN COUNTRIES',\n",
       "       'CAUSING DEATH BY NEGLIGENCE', 'OTHER IPC CRIMES', 'TOTAL IPC CRIMES'],\n",
       "      dtype='object')"
      ]
     },
     "execution_count": 121,
     "metadata": {},
     "output_type": "execute_result"
    }
   ],
   "source": [
    "crime_df.columns"
   ]
  },
  {
   "cell_type": "code",
   "execution_count": 122,
   "id": "24e5e985-cf41-4a5e-80f8-26ab6f051d89",
   "metadata": {},
   "outputs": [],
   "source": [
    "# aggregate crime data for now"
   ]
  },
  {
   "cell_type": "code",
   "execution_count": 123,
   "id": "labeled-response",
   "metadata": {},
   "outputs": [],
   "source": [
    "crime_df = crime_df[\n",
    "    (crime_df[\"DISTRICT\"] != \"total\")&\n",
    "    (crime_df[\"YEAR\"] > 2010)].groupby([\"STATE/UT\", \"DISTRICT\"])[[\"TOTAL IPC CRIMES\",\"OTHER IPC CRIMES\"]].mean().reset_index()"
   ]
  },
  {
   "cell_type": "code",
   "execution_count": 124,
   "id": "shaped-canon",
   "metadata": {
    "scrolled": true
   },
   "outputs": [
    {
     "data": {
      "text/html": [
       "<div>\n",
       "<style scoped>\n",
       "    .dataframe tbody tr th:only-of-type {\n",
       "        vertical-align: middle;\n",
       "    }\n",
       "\n",
       "    .dataframe tbody tr th {\n",
       "        vertical-align: top;\n",
       "    }\n",
       "\n",
       "    .dataframe thead th {\n",
       "        text-align: right;\n",
       "    }\n",
       "</style>\n",
       "<table border=\"1\" class=\"dataframe\">\n",
       "  <thead>\n",
       "    <tr style=\"text-align: right;\">\n",
       "      <th></th>\n",
       "      <th>pc11_state_id</th>\n",
       "      <th>pc11_district_id</th>\n",
       "      <th>state_name</th>\n",
       "      <th>district_name</th>\n",
       "      <th>st_share</th>\n",
       "      <th>sc_share</th>\n",
       "      <th>ptg_share</th>\n",
       "      <th>tot_p</th>\n",
       "      <th>inc_5k_plus_share</th>\n",
       "      <th>disab_share</th>\n",
       "      <th>scav_share</th>\n",
       "      <th>house_type3</th>\n",
       "      <th>ed_prim_share</th>\n",
       "      <th>land_own_share</th>\n",
       "      <th>STATE/UT</th>\n",
       "      <th>DISTRICT</th>\n",
       "      <th>TOTAL IPC CRIMES</th>\n",
       "      <th>OTHER IPC CRIMES</th>\n",
       "    </tr>\n",
       "  </thead>\n",
       "  <tbody>\n",
       "    <tr>\n",
       "      <th>0</th>\n",
       "      <td>1</td>\n",
       "      <td>1</td>\n",
       "      <td>jammu kashmir</td>\n",
       "      <td>kupwara</td>\n",
       "      <td>0.018420</td>\n",
       "      <td>0.000608</td>\n",
       "      <td>0.001132</td>\n",
       "      <td>598707.0</td>\n",
       "      <td>0.273440</td>\n",
       "      <td>0.902448</td>\n",
       "      <td>0.000174</td>\n",
       "      <td>0.001139</td>\n",
       "      <td>0.523096</td>\n",
       "      <td>0.791104</td>\n",
       "      <td>JAMMU &amp; KASHMIR</td>\n",
       "      <td>kupwara</td>\n",
       "      <td>781.5</td>\n",
       "      <td>295.0</td>\n",
       "    </tr>\n",
       "    <tr>\n",
       "      <th>1</th>\n",
       "      <td>1</td>\n",
       "      <td>4</td>\n",
       "      <td>jammu kashmir</td>\n",
       "      <td>kargil</td>\n",
       "      <td>0.298980</td>\n",
       "      <td>0.000090</td>\n",
       "      <td>0.011493</td>\n",
       "      <td>110533.0</td>\n",
       "      <td>0.480378</td>\n",
       "      <td>0.900534</td>\n",
       "      <td>0.004285</td>\n",
       "      <td>0.000000</td>\n",
       "      <td>0.543989</td>\n",
       "      <td>0.591850</td>\n",
       "      <td>JAMMU &amp; KASHMIR</td>\n",
       "      <td>kargil</td>\n",
       "      <td>110.5</td>\n",
       "      <td>79.5</td>\n",
       "    </tr>\n",
       "    <tr>\n",
       "      <th>2</th>\n",
       "      <td>1</td>\n",
       "      <td>6</td>\n",
       "      <td>jammu kashmir</td>\n",
       "      <td>rajouri</td>\n",
       "      <td>0.128456</td>\n",
       "      <td>0.038889</td>\n",
       "      <td>0.004218</td>\n",
       "      <td>603954.0</td>\n",
       "      <td>0.266523</td>\n",
       "      <td>0.901133</td>\n",
       "      <td>0.000783</td>\n",
       "      <td>0.000326</td>\n",
       "      <td>0.506377</td>\n",
       "      <td>0.947900</td>\n",
       "      <td>JAMMU &amp; KASHMIR</td>\n",
       "      <td>rajouri</td>\n",
       "      <td>1863.0</td>\n",
       "      <td>1340.0</td>\n",
       "    </tr>\n",
       "    <tr>\n",
       "      <th>3</th>\n",
       "      <td>1</td>\n",
       "      <td>7</td>\n",
       "      <td>jammu kashmir</td>\n",
       "      <td>kathua</td>\n",
       "      <td>0.033276</td>\n",
       "      <td>0.075045</td>\n",
       "      <td>0.003898</td>\n",
       "      <td>518943.0</td>\n",
       "      <td>0.369915</td>\n",
       "      <td>0.900782</td>\n",
       "      <td>0.010199</td>\n",
       "      <td>0.001487</td>\n",
       "      <td>0.578723</td>\n",
       "      <td>0.668616</td>\n",
       "      <td>JAMMU &amp; KASHMIR</td>\n",
       "      <td>kathua</td>\n",
       "      <td>1212.0</td>\n",
       "      <td>848.0</td>\n",
       "    </tr>\n",
       "    <tr>\n",
       "      <th>4</th>\n",
       "      <td>1</td>\n",
       "      <td>10</td>\n",
       "      <td>jammu kashmir</td>\n",
       "      <td>srinagar</td>\n",
       "      <td>0.038159</td>\n",
       "      <td>0.000053</td>\n",
       "      <td>0.000000</td>\n",
       "      <td>16645.0</td>\n",
       "      <td>0.286356</td>\n",
       "      <td>0.900343</td>\n",
       "      <td>0.000000</td>\n",
       "      <td>0.020691</td>\n",
       "      <td>0.468158</td>\n",
       "      <td>0.550060</td>\n",
       "      <td>JAMMU &amp; KASHMIR</td>\n",
       "      <td>srinagar</td>\n",
       "      <td>2685.0</td>\n",
       "      <td>1123.5</td>\n",
       "    </tr>\n",
       "    <tr>\n",
       "      <th>...</th>\n",
       "      <td>...</td>\n",
       "      <td>...</td>\n",
       "      <td>...</td>\n",
       "      <td>...</td>\n",
       "      <td>...</td>\n",
       "      <td>...</td>\n",
       "      <td>...</td>\n",
       "      <td>...</td>\n",
       "      <td>...</td>\n",
       "      <td>...</td>\n",
       "      <td>...</td>\n",
       "      <td>...</td>\n",
       "      <td>...</td>\n",
       "      <td>...</td>\n",
       "      <td>...</td>\n",
       "      <td>...</td>\n",
       "      <td>...</td>\n",
       "      <td>...</td>\n",
       "    </tr>\n",
       "    <tr>\n",
       "      <th>468</th>\n",
       "      <td>33</td>\n",
       "      <td>630</td>\n",
       "      <td>tamil nadu</td>\n",
       "      <td>dharmapuri</td>\n",
       "      <td>0.029023</td>\n",
       "      <td>0.070605</td>\n",
       "      <td>0.010590</td>\n",
       "      <td>210870.0</td>\n",
       "      <td>0.229055</td>\n",
       "      <td>0.900506</td>\n",
       "      <td>0.000070</td>\n",
       "      <td>0.001426</td>\n",
       "      <td>0.444996</td>\n",
       "      <td>0.484355</td>\n",
       "      <td>TAMIL NADU</td>\n",
       "      <td>dharmapuri</td>\n",
       "      <td>3658.0</td>\n",
       "      <td>1706.0</td>\n",
       "    </tr>\n",
       "    <tr>\n",
       "      <th>469</th>\n",
       "      <td>33</td>\n",
       "      <td>631</td>\n",
       "      <td>tamil nadu</td>\n",
       "      <td>krishnagiri</td>\n",
       "      <td>0.005238</td>\n",
       "      <td>0.058848</td>\n",
       "      <td>0.002325</td>\n",
       "      <td>279440.0</td>\n",
       "      <td>0.199841</td>\n",
       "      <td>0.900743</td>\n",
       "      <td>0.000012</td>\n",
       "      <td>0.000347</td>\n",
       "      <td>0.479042</td>\n",
       "      <td>0.461178</td>\n",
       "      <td>TAMIL NADU</td>\n",
       "      <td>krishnagiri</td>\n",
       "      <td>4351.0</td>\n",
       "      <td>2244.0</td>\n",
       "    </tr>\n",
       "    <tr>\n",
       "      <th>470</th>\n",
       "      <td>33</td>\n",
       "      <td>633</td>\n",
       "      <td>tamil nadu</td>\n",
       "      <td>tiruppur</td>\n",
       "      <td>0.001194</td>\n",
       "      <td>0.088235</td>\n",
       "      <td>0.000054</td>\n",
       "      <td>189929.0</td>\n",
       "      <td>0.188536</td>\n",
       "      <td>0.900495</td>\n",
       "      <td>0.000000</td>\n",
       "      <td>0.000268</td>\n",
       "      <td>0.518408</td>\n",
       "      <td>0.265924</td>\n",
       "      <td>TAMIL NADU</td>\n",
       "      <td>tiruppur</td>\n",
       "      <td>6907.5</td>\n",
       "      <td>3993.0</td>\n",
       "    </tr>\n",
       "    <tr>\n",
       "      <th>471</th>\n",
       "      <td>34</td>\n",
       "      <td>635</td>\n",
       "      <td>puducherry</td>\n",
       "      <td>puducherry</td>\n",
       "      <td>0.000000</td>\n",
       "      <td>0.103715</td>\n",
       "      <td>0.000601</td>\n",
       "      <td>270139.0</td>\n",
       "      <td>0.219794</td>\n",
       "      <td>0.900778</td>\n",
       "      <td>0.000651</td>\n",
       "      <td>0.005084</td>\n",
       "      <td>0.699484</td>\n",
       "      <td>0.059630</td>\n",
       "      <td>PUDUCHERRY</td>\n",
       "      <td>puducherry</td>\n",
       "      <td>3551.5</td>\n",
       "      <td>1699.5</td>\n",
       "    </tr>\n",
       "    <tr>\n",
       "      <th>472</th>\n",
       "      <td>34</td>\n",
       "      <td>637</td>\n",
       "      <td>puducherry</td>\n",
       "      <td>karaikal</td>\n",
       "      <td>0.000000</td>\n",
       "      <td>0.076340</td>\n",
       "      <td>0.000055</td>\n",
       "      <td>96028.0</td>\n",
       "      <td>0.308519</td>\n",
       "      <td>0.901225</td>\n",
       "      <td>0.000783</td>\n",
       "      <td>0.000000</td>\n",
       "      <td>0.689873</td>\n",
       "      <td>0.080033</td>\n",
       "      <td>PUDUCHERRY</td>\n",
       "      <td>karaikal</td>\n",
       "      <td>770.0</td>\n",
       "      <td>390.0</td>\n",
       "    </tr>\n",
       "  </tbody>\n",
       "</table>\n",
       "<p>473 rows × 18 columns</p>\n",
       "</div>"
      ],
      "text/plain": [
       "     pc11_state_id  pc11_district_id     state_name district_name  st_share  \\\n",
       "0                1                 1  jammu kashmir       kupwara  0.018420   \n",
       "1                1                 4  jammu kashmir        kargil  0.298980   \n",
       "2                1                 6  jammu kashmir       rajouri  0.128456   \n",
       "3                1                 7  jammu kashmir        kathua  0.033276   \n",
       "4                1                10  jammu kashmir      srinagar  0.038159   \n",
       "..             ...               ...            ...           ...       ...   \n",
       "468             33               630     tamil nadu    dharmapuri  0.029023   \n",
       "469             33               631     tamil nadu   krishnagiri  0.005238   \n",
       "470             33               633     tamil nadu      tiruppur  0.001194   \n",
       "471             34               635     puducherry    puducherry  0.000000   \n",
       "472             34               637     puducherry      karaikal  0.000000   \n",
       "\n",
       "     sc_share  ptg_share     tot_p  inc_5k_plus_share  disab_share  \\\n",
       "0    0.000608   0.001132  598707.0           0.273440     0.902448   \n",
       "1    0.000090   0.011493  110533.0           0.480378     0.900534   \n",
       "2    0.038889   0.004218  603954.0           0.266523     0.901133   \n",
       "3    0.075045   0.003898  518943.0           0.369915     0.900782   \n",
       "4    0.000053   0.000000   16645.0           0.286356     0.900343   \n",
       "..        ...        ...       ...                ...          ...   \n",
       "468  0.070605   0.010590  210870.0           0.229055     0.900506   \n",
       "469  0.058848   0.002325  279440.0           0.199841     0.900743   \n",
       "470  0.088235   0.000054  189929.0           0.188536     0.900495   \n",
       "471  0.103715   0.000601  270139.0           0.219794     0.900778   \n",
       "472  0.076340   0.000055   96028.0           0.308519     0.901225   \n",
       "\n",
       "     scav_share  house_type3  ed_prim_share  land_own_share         STATE/UT  \\\n",
       "0      0.000174     0.001139       0.523096        0.791104  JAMMU & KASHMIR   \n",
       "1      0.004285     0.000000       0.543989        0.591850  JAMMU & KASHMIR   \n",
       "2      0.000783     0.000326       0.506377        0.947900  JAMMU & KASHMIR   \n",
       "3      0.010199     0.001487       0.578723        0.668616  JAMMU & KASHMIR   \n",
       "4      0.000000     0.020691       0.468158        0.550060  JAMMU & KASHMIR   \n",
       "..          ...          ...            ...             ...              ...   \n",
       "468    0.000070     0.001426       0.444996        0.484355       TAMIL NADU   \n",
       "469    0.000012     0.000347       0.479042        0.461178       TAMIL NADU   \n",
       "470    0.000000     0.000268       0.518408        0.265924       TAMIL NADU   \n",
       "471    0.000651     0.005084       0.699484        0.059630       PUDUCHERRY   \n",
       "472    0.000783     0.000000       0.689873        0.080033       PUDUCHERRY   \n",
       "\n",
       "        DISTRICT  TOTAL IPC CRIMES  OTHER IPC CRIMES  \n",
       "0        kupwara             781.5             295.0  \n",
       "1         kargil             110.5              79.5  \n",
       "2        rajouri            1863.0            1340.0  \n",
       "3         kathua            1212.0             848.0  \n",
       "4       srinagar            2685.0            1123.5  \n",
       "..           ...               ...               ...  \n",
       "468   dharmapuri            3658.0            1706.0  \n",
       "469  krishnagiri            4351.0            2244.0  \n",
       "470     tiruppur            6907.5            3993.0  \n",
       "471   puducherry            3551.5            1699.5  \n",
       "472     karaikal             770.0             390.0  \n",
       "\n",
       "[473 rows x 18 columns]"
      ]
     },
     "execution_count": 124,
     "metadata": {},
     "output_type": "execute_result"
    }
   ],
   "source": [
    "merged_df = district_df.merge(crime_df, left_on=\"district_name\", right_on=\"DISTRICT\", how = \"inner\")\n",
    "merged_df"
   ]
  },
  {
   "cell_type": "code",
   "execution_count": 125,
   "id": "fundamental-cable",
   "metadata": {},
   "outputs": [],
   "source": [
    "merged_df[\"crime_rate\"] = merged_df[\"TOTAL IPC CRIMES\"]/merged_df[\"tot_p\"]\n",
    "merged_df[\"other_ipc_rate\"] = merged_df[\"OTHER IPC CRIMES\"]/merged_df[\"tot_p\"]\n",
    "\n",
    "merged_df[\"other_crime_proportion\"] = merged_df[\"OTHER IPC CRIMES\"]/merged_df[\"TOTAL IPC CRIMES\"]"
   ]
  },
  {
   "cell_type": "code",
   "execution_count": 160,
   "id": "limiting-header",
   "metadata": {},
   "outputs": [],
   "source": [
    "features = [\n",
    "    \"tot_p\",\n",
    "    \"sc_share\", \n",
    "    \"st_share\", \n",
    "    \"ptg_share\", \n",
    "    \"inc_5k_plus_share\",  \n",
    "    \"ed_prim_share\",\n",
    "    \"land_own_share\",\n",
    "    \"disab_share\",\n",
    "    \"house_type3\",\n",
    "]"
   ]
  },
  {
   "cell_type": "code",
   "execution_count": 161,
   "id": "negative-freedom",
   "metadata": {},
   "outputs": [],
   "source": [
    "analysis_df = merged_df[merged_df[\"crime_rate\"] <= .1][\n",
    "    features + [\"crime_rate\", \"other_ipc_rate\", \"other_crime_proportion\"]].dropna()"
   ]
  },
  {
   "cell_type": "code",
   "execution_count": 162,
   "id": "figured-generic",
   "metadata": {},
   "outputs": [],
   "source": [
    "def norm(col):\n",
    "    return (col - col.mean())/col.std()\n"
   ]
  },
  {
   "cell_type": "markdown",
   "id": "4be18e3a-00f0-48ae-b25b-6ce6a1cd2b7d",
   "metadata": {},
   "source": [
    "### Basic correlations"
   ]
  },
  {
   "cell_type": "code",
   "execution_count": 163,
   "id": "24440f35-c4eb-4aca-8329-a83c0e7f9bdb",
   "metadata": {},
   "outputs": [
    {
     "data": {
      "text/plain": [
       "tot_p                    -0.372018\n",
       "sc_share                  0.179976\n",
       "st_share                 -0.040588\n",
       "ptg_share                -0.074844\n",
       "inc_5k_plus_share         0.025643\n",
       "ed_prim_share            -0.036832\n",
       "land_own_share           -0.035153\n",
       "disab_share              -0.081627\n",
       "house_type3              -0.059628\n",
       "crime_rate                1.000000\n",
       "other_ipc_rate            0.918252\n",
       "other_crime_proportion    0.180248\n",
       "Name: crime_rate, dtype: float64"
      ]
     },
     "execution_count": 163,
     "metadata": {},
     "output_type": "execute_result"
    }
   ],
   "source": [
    "analysis_df.corr()[\"crime_rate\"]"
   ]
  },
  {
   "cell_type": "code",
   "execution_count": 164,
   "id": "9bac8656-4669-4e91-becd-ea2ad8f1427d",
   "metadata": {},
   "outputs": [
    {
     "data": {
      "text/plain": [
       "tot_p                    -0.337606\n",
       "sc_share                  0.241002\n",
       "st_share                 -0.130355\n",
       "ptg_share                -0.082558\n",
       "inc_5k_plus_share        -0.028580\n",
       "ed_prim_share            -0.061735\n",
       "land_own_share           -0.058072\n",
       "disab_share              -0.039436\n",
       "house_type3              -0.042637\n",
       "crime_rate                0.918252\n",
       "other_ipc_rate            1.000000\n",
       "other_crime_proportion    0.390701\n",
       "Name: other_ipc_rate, dtype: float64"
      ]
     },
     "execution_count": 164,
     "metadata": {},
     "output_type": "execute_result"
    }
   ],
   "source": [
    "analysis_df.corr()[\"other_ipc_rate\"]"
   ]
  },
  {
   "cell_type": "code",
   "execution_count": 165,
   "id": "df44e491-4678-4cf2-b216-a6cf9dea2efa",
   "metadata": {},
   "outputs": [
    {
     "data": {
      "text/plain": [
       "tot_p                    -0.169363\n",
       "sc_share                  0.154483\n",
       "st_share                 -0.169917\n",
       "ptg_share                -0.041920\n",
       "inc_5k_plus_share        -0.072208\n",
       "ed_prim_share            -0.048256\n",
       "land_own_share            0.138888\n",
       "disab_share               0.132451\n",
       "house_type3               0.055138\n",
       "crime_rate                0.180248\n",
       "other_ipc_rate            0.390701\n",
       "other_crime_proportion    1.000000\n",
       "Name: other_crime_proportion, dtype: float64"
      ]
     },
     "execution_count": 165,
     "metadata": {},
     "output_type": "execute_result"
    }
   ],
   "source": [
    "analysis_df.corr()[\"other_crime_proportion\"]"
   ]
  },
  {
   "cell_type": "markdown",
   "id": "4b93b8f8-9470-4484-8a62-4f0a9273b840",
   "metadata": {},
   "source": [
    "### Crime Rate Analysis"
   ]
  },
  {
   "cell_type": "code",
   "execution_count": 253,
   "id": "surrounded-devices",
   "metadata": {},
   "outputs": [],
   "source": [
    "X = sm.add_constant(analysis_df[features].apply(norm, axis=0))\n",
    "y = np.log(analysis_df[\"crime_rate\"])"
   ]
  },
  {
   "cell_type": "code",
   "execution_count": 228,
   "id": "38ece2cd-30d5-4784-9021-60e91db804cb",
   "metadata": {},
   "outputs": [
    {
     "data": {
      "text/html": [
       "<table class=\"simpletable\">\n",
       "<caption>OLS Regression Results</caption>\n",
       "<tr>\n",
       "  <th>Dep. Variable:</th>       <td>crime_rate</td>    <th>  R-squared:         </th> <td>   0.101</td>\n",
       "</tr>\n",
       "<tr>\n",
       "  <th>Model:</th>                   <td>OLS</td>       <th>  Adj. R-squared:    </th> <td>   0.099</td>\n",
       "</tr>\n",
       "<tr>\n",
       "  <th>Method:</th>             <td>Least Squares</td>  <th>  F-statistic:       </th> <td>   49.50</td>\n",
       "</tr>\n",
       "<tr>\n",
       "  <th>Date:</th>             <td>Tue, 19 Mar 2024</td> <th>  Prob (F-statistic):</th> <td>7.58e-12</td>\n",
       "</tr>\n",
       "<tr>\n",
       "  <th>Time:</th>                 <td>21:32:17</td>     <th>  Log-Likelihood:    </th> <td> -635.99</td>\n",
       "</tr>\n",
       "<tr>\n",
       "  <th>No. Observations:</th>      <td>   444</td>      <th>  AIC:               </th> <td>   1276.</td>\n",
       "</tr>\n",
       "<tr>\n",
       "  <th>Df Residuals:</th>          <td>   442</td>      <th>  BIC:               </th> <td>   1284.</td>\n",
       "</tr>\n",
       "<tr>\n",
       "  <th>Df Model:</th>              <td>     1</td>      <th>                     </th>     <td> </td>   \n",
       "</tr>\n",
       "<tr>\n",
       "  <th>Covariance Type:</th>      <td>nonrobust</td>    <th>                     </th>     <td> </td>   \n",
       "</tr>\n",
       "</table>\n",
       "<table class=\"simpletable\">\n",
       "<tr>\n",
       "      <td></td>        <th>coef</th>     <th>std err</th>      <th>t</th>      <th>P>|t|</th>  <th>[0.025</th>    <th>0.975]</th>  \n",
       "</tr>\n",
       "<tr>\n",
       "  <th>const</th>    <td>   -6.1344</td> <td>    0.085</td> <td>  -71.868</td> <td> 0.000</td> <td>   -6.302</td> <td>   -5.967</td>\n",
       "</tr>\n",
       "<tr>\n",
       "  <th>sc_share</th> <td>    9.4733</td> <td>    1.346</td> <td>    7.036</td> <td> 0.000</td> <td>    6.827</td> <td>   12.119</td>\n",
       "</tr>\n",
       "</table>\n",
       "<table class=\"simpletable\">\n",
       "<tr>\n",
       "  <th>Omnibus:</th>       <td>25.327</td> <th>  Durbin-Watson:     </th> <td>   0.727</td>\n",
       "</tr>\n",
       "<tr>\n",
       "  <th>Prob(Omnibus):</th> <td> 0.000</td> <th>  Jarque-Bera (JB):  </th> <td>  28.285</td>\n",
       "</tr>\n",
       "<tr>\n",
       "  <th>Skew:</th>          <td> 0.614</td> <th>  Prob(JB):          </th> <td>7.21e-07</td>\n",
       "</tr>\n",
       "<tr>\n",
       "  <th>Kurtosis:</th>      <td> 3.140</td> <th>  Cond. No.          </th> <td>    28.0</td>\n",
       "</tr>\n",
       "</table><br/><br/>Notes:<br/>[1] Standard Errors assume that the covariance matrix of the errors is correctly specified."
      ],
      "text/latex": [
       "\\begin{center}\n",
       "\\begin{tabular}{lclc}\n",
       "\\toprule\n",
       "\\textbf{Dep. Variable:}    &   crime\\_rate    & \\textbf{  R-squared:         } &     0.101   \\\\\n",
       "\\textbf{Model:}            &       OLS        & \\textbf{  Adj. R-squared:    } &     0.099   \\\\\n",
       "\\textbf{Method:}           &  Least Squares   & \\textbf{  F-statistic:       } &     49.50   \\\\\n",
       "\\textbf{Date:}             & Tue, 19 Mar 2024 & \\textbf{  Prob (F-statistic):} &  7.58e-12   \\\\\n",
       "\\textbf{Time:}             &     21:32:17     & \\textbf{  Log-Likelihood:    } &   -635.99   \\\\\n",
       "\\textbf{No. Observations:} &         444      & \\textbf{  AIC:               } &     1276.   \\\\\n",
       "\\textbf{Df Residuals:}     &         442      & \\textbf{  BIC:               } &     1284.   \\\\\n",
       "\\textbf{Df Model:}         &           1      & \\textbf{                     } &             \\\\\n",
       "\\textbf{Covariance Type:}  &    nonrobust     & \\textbf{                     } &             \\\\\n",
       "\\bottomrule\n",
       "\\end{tabular}\n",
       "\\begin{tabular}{lcccccc}\n",
       "                   & \\textbf{coef} & \\textbf{std err} & \\textbf{t} & \\textbf{P$> |$t$|$} & \\textbf{[0.025} & \\textbf{0.975]}  \\\\\n",
       "\\midrule\n",
       "\\textbf{const}     &      -6.1344  &        0.085     &   -71.868  &         0.000        &       -6.302    &       -5.967     \\\\\n",
       "\\textbf{sc\\_share} &       9.4733  &        1.346     &     7.036  &         0.000        &        6.827    &       12.119     \\\\\n",
       "\\bottomrule\n",
       "\\end{tabular}\n",
       "\\begin{tabular}{lclc}\n",
       "\\textbf{Omnibus:}       & 25.327 & \\textbf{  Durbin-Watson:     } &    0.727  \\\\\n",
       "\\textbf{Prob(Omnibus):} &  0.000 & \\textbf{  Jarque-Bera (JB):  } &   28.285  \\\\\n",
       "\\textbf{Skew:}          &  0.614 & \\textbf{  Prob(JB):          } & 7.21e-07  \\\\\n",
       "\\textbf{Kurtosis:}      &  3.140 & \\textbf{  Cond. No.          } &     28.0  \\\\\n",
       "\\bottomrule\n",
       "\\end{tabular}\n",
       "%\\caption{OLS Regression Results}\n",
       "\\end{center}\n",
       "\n",
       "Notes: \\newline\n",
       " [1] Standard Errors assume that the covariance matrix of the errors is correctly specified."
      ],
      "text/plain": [
       "<class 'statsmodels.iolib.summary.Summary'>\n",
       "\"\"\"\n",
       "                            OLS Regression Results                            \n",
       "==============================================================================\n",
       "Dep. Variable:             crime_rate   R-squared:                       0.101\n",
       "Model:                            OLS   Adj. R-squared:                  0.099\n",
       "Method:                 Least Squares   F-statistic:                     49.50\n",
       "Date:                Tue, 19 Mar 2024   Prob (F-statistic):           7.58e-12\n",
       "Time:                        21:32:17   Log-Likelihood:                -635.99\n",
       "No. Observations:                 444   AIC:                             1276.\n",
       "Df Residuals:                     442   BIC:                             1284.\n",
       "Df Model:                           1                                         \n",
       "Covariance Type:            nonrobust                                         \n",
       "==============================================================================\n",
       "                 coef    std err          t      P>|t|      [0.025      0.975]\n",
       "------------------------------------------------------------------------------\n",
       "const         -6.1344      0.085    -71.868      0.000      -6.302      -5.967\n",
       "sc_share       9.4733      1.346      7.036      0.000       6.827      12.119\n",
       "==============================================================================\n",
       "Omnibus:                       25.327   Durbin-Watson:                   0.727\n",
       "Prob(Omnibus):                  0.000   Jarque-Bera (JB):               28.285\n",
       "Skew:                           0.614   Prob(JB):                     7.21e-07\n",
       "Kurtosis:                       3.140   Cond. No.                         28.0\n",
       "==============================================================================\n",
       "\n",
       "Notes:\n",
       "[1] Standard Errors assume that the covariance matrix of the errors is correctly specified.\n",
       "\"\"\""
      ]
     },
     "execution_count": 228,
     "metadata": {},
     "output_type": "execute_result"
    }
   ],
   "source": [
    "# caste regression\n",
    "ols = sm.OLS(y, sm.add_constant(analysis_df[[\"sc_share\"]]))\n",
    "\n",
    "results = ols.fit()\n",
    "\n",
    "results.summary()"
   ]
  },
  {
   "cell_type": "code",
   "execution_count": 255,
   "id": "dental-scheduling",
   "metadata": {
    "scrolled": true
   },
   "outputs": [
    {
     "data": {
      "text/html": [
       "<table class=\"simpletable\">\n",
       "<caption>OLS Regression Results</caption>\n",
       "<tr>\n",
       "  <th>Dep. Variable:</th>       <td>crime_rate</td>    <th>  R-squared:         </th> <td>   0.327</td>\n",
       "</tr>\n",
       "<tr>\n",
       "  <th>Model:</th>                   <td>OLS</td>       <th>  Adj. R-squared:    </th> <td>   0.313</td>\n",
       "</tr>\n",
       "<tr>\n",
       "  <th>Method:</th>             <td>Least Squares</td>  <th>  F-statistic:       </th> <td>   23.39</td>\n",
       "</tr>\n",
       "<tr>\n",
       "  <th>Date:</th>             <td>Wed, 20 Mar 2024</td> <th>  Prob (F-statistic):</th> <td>1.50e-32</td>\n",
       "</tr>\n",
       "<tr>\n",
       "  <th>Time:</th>                 <td>08:11:10</td>     <th>  Log-Likelihood:    </th> <td> -571.77</td>\n",
       "</tr>\n",
       "<tr>\n",
       "  <th>No. Observations:</th>      <td>   444</td>      <th>  AIC:               </th> <td>   1164.</td>\n",
       "</tr>\n",
       "<tr>\n",
       "  <th>Df Residuals:</th>          <td>   434</td>      <th>  BIC:               </th> <td>   1205.</td>\n",
       "</tr>\n",
       "<tr>\n",
       "  <th>Df Model:</th>              <td>     9</td>      <th>                     </th>     <td> </td>   \n",
       "</tr>\n",
       "<tr>\n",
       "  <th>Covariance Type:</th>      <td>nonrobust</td>    <th>                     </th>     <td> </td>   \n",
       "</tr>\n",
       "</table>\n",
       "<table class=\"simpletable\">\n",
       "<tr>\n",
       "          <td></td>             <th>coef</th>     <th>std err</th>      <th>t</th>      <th>P>|t|</th>  <th>[0.025</th>    <th>0.975]</th>  \n",
       "</tr>\n",
       "<tr>\n",
       "  <th>const</th>             <td>   -5.6388</td> <td>    0.042</td> <td> -133.935</td> <td> 0.000</td> <td>   -5.722</td> <td>   -5.556</td>\n",
       "</tr>\n",
       "<tr>\n",
       "  <th>tot_p</th>             <td>   -0.5344</td> <td>    0.046</td> <td>  -11.542</td> <td> 0.000</td> <td>   -0.625</td> <td>   -0.443</td>\n",
       "</tr>\n",
       "<tr>\n",
       "  <th>sc_share</th>          <td>    0.2156</td> <td>    0.054</td> <td>    4.006</td> <td> 0.000</td> <td>    0.110</td> <td>    0.321</td>\n",
       "</tr>\n",
       "<tr>\n",
       "  <th>st_share</th>          <td>   -0.2634</td> <td>    0.060</td> <td>   -4.362</td> <td> 0.000</td> <td>   -0.382</td> <td>   -0.145</td>\n",
       "</tr>\n",
       "<tr>\n",
       "  <th>ptg_share</th>         <td>   -0.0315</td> <td>    0.045</td> <td>   -0.694</td> <td> 0.488</td> <td>   -0.121</td> <td>    0.058</td>\n",
       "</tr>\n",
       "<tr>\n",
       "  <th>inc_5k_plus_share</th> <td>   -0.0269</td> <td>    0.056</td> <td>   -0.485</td> <td> 0.628</td> <td>   -0.136</td> <td>    0.082</td>\n",
       "</tr>\n",
       "<tr>\n",
       "  <th>ed_prim_share</th>     <td>   -0.1307</td> <td>    0.049</td> <td>   -2.662</td> <td> 0.008</td> <td>   -0.227</td> <td>   -0.034</td>\n",
       "</tr>\n",
       "<tr>\n",
       "  <th>land_own_share</th>    <td>   -0.1730</td> <td>    0.045</td> <td>   -3.841</td> <td> 0.000</td> <td>   -0.261</td> <td>   -0.084</td>\n",
       "</tr>\n",
       "<tr>\n",
       "  <th>disab_share</th>       <td>   -0.0257</td> <td>    0.046</td> <td>   -0.555</td> <td> 0.579</td> <td>   -0.117</td> <td>    0.065</td>\n",
       "</tr>\n",
       "<tr>\n",
       "  <th>house_type3</th>       <td>    0.0721</td> <td>    0.045</td> <td>    1.603</td> <td> 0.110</td> <td>   -0.016</td> <td>    0.160</td>\n",
       "</tr>\n",
       "</table>\n",
       "<table class=\"simpletable\">\n",
       "<tr>\n",
       "  <th>Omnibus:</th>       <td>30.416</td> <th>  Durbin-Watson:     </th> <td>   1.098</td>\n",
       "</tr>\n",
       "<tr>\n",
       "  <th>Prob(Omnibus):</th> <td> 0.000</td> <th>  Jarque-Bera (JB):  </th> <td>  41.013</td>\n",
       "</tr>\n",
       "<tr>\n",
       "  <th>Skew:</th>          <td> 0.541</td> <th>  Prob(JB):          </th> <td>1.24e-09</td>\n",
       "</tr>\n",
       "<tr>\n",
       "  <th>Kurtosis:</th>      <td> 4.022</td> <th>  Cond. No.          </th> <td>    2.75</td>\n",
       "</tr>\n",
       "</table><br/><br/>Notes:<br/>[1] Standard Errors assume that the covariance matrix of the errors is correctly specified."
      ],
      "text/latex": [
       "\\begin{center}\n",
       "\\begin{tabular}{lclc}\n",
       "\\toprule\n",
       "\\textbf{Dep. Variable:}       &   crime\\_rate    & \\textbf{  R-squared:         } &     0.327   \\\\\n",
       "\\textbf{Model:}               &       OLS        & \\textbf{  Adj. R-squared:    } &     0.313   \\\\\n",
       "\\textbf{Method:}              &  Least Squares   & \\textbf{  F-statistic:       } &     23.39   \\\\\n",
       "\\textbf{Date:}                & Wed, 20 Mar 2024 & \\textbf{  Prob (F-statistic):} &  1.50e-32   \\\\\n",
       "\\textbf{Time:}                &     08:11:10     & \\textbf{  Log-Likelihood:    } &   -571.77   \\\\\n",
       "\\textbf{No. Observations:}    &         444      & \\textbf{  AIC:               } &     1164.   \\\\\n",
       "\\textbf{Df Residuals:}        &         434      & \\textbf{  BIC:               } &     1205.   \\\\\n",
       "\\textbf{Df Model:}            &           9      & \\textbf{                     } &             \\\\\n",
       "\\textbf{Covariance Type:}     &    nonrobust     & \\textbf{                     } &             \\\\\n",
       "\\bottomrule\n",
       "\\end{tabular}\n",
       "\\begin{tabular}{lcccccc}\n",
       "                              & \\textbf{coef} & \\textbf{std err} & \\textbf{t} & \\textbf{P$> |$t$|$} & \\textbf{[0.025} & \\textbf{0.975]}  \\\\\n",
       "\\midrule\n",
       "\\textbf{const}                &      -5.6388  &        0.042     &  -133.935  &         0.000        &       -5.722    &       -5.556     \\\\\n",
       "\\textbf{tot\\_p}               &      -0.5344  &        0.046     &   -11.542  &         0.000        &       -0.625    &       -0.443     \\\\\n",
       "\\textbf{sc\\_share}            &       0.2156  &        0.054     &     4.006  &         0.000        &        0.110    &        0.321     \\\\\n",
       "\\textbf{st\\_share}            &      -0.2634  &        0.060     &    -4.362  &         0.000        &       -0.382    &       -0.145     \\\\\n",
       "\\textbf{ptg\\_share}           &      -0.0315  &        0.045     &    -0.694  &         0.488        &       -0.121    &        0.058     \\\\\n",
       "\\textbf{inc\\_5k\\_plus\\_share} &      -0.0269  &        0.056     &    -0.485  &         0.628        &       -0.136    &        0.082     \\\\\n",
       "\\textbf{ed\\_prim\\_share}      &      -0.1307  &        0.049     &    -2.662  &         0.008        &       -0.227    &       -0.034     \\\\\n",
       "\\textbf{land\\_own\\_share}     &      -0.1730  &        0.045     &    -3.841  &         0.000        &       -0.261    &       -0.084     \\\\\n",
       "\\textbf{disab\\_share}         &      -0.0257  &        0.046     &    -0.555  &         0.579        &       -0.117    &        0.065     \\\\\n",
       "\\textbf{house\\_type3}         &       0.0721  &        0.045     &     1.603  &         0.110        &       -0.016    &        0.160     \\\\\n",
       "\\bottomrule\n",
       "\\end{tabular}\n",
       "\\begin{tabular}{lclc}\n",
       "\\textbf{Omnibus:}       & 30.416 & \\textbf{  Durbin-Watson:     } &    1.098  \\\\\n",
       "\\textbf{Prob(Omnibus):} &  0.000 & \\textbf{  Jarque-Bera (JB):  } &   41.013  \\\\\n",
       "\\textbf{Skew:}          &  0.541 & \\textbf{  Prob(JB):          } & 1.24e-09  \\\\\n",
       "\\textbf{Kurtosis:}      &  4.022 & \\textbf{  Cond. No.          } &     2.75  \\\\\n",
       "\\bottomrule\n",
       "\\end{tabular}\n",
       "%\\caption{OLS Regression Results}\n",
       "\\end{center}\n",
       "\n",
       "Notes: \\newline\n",
       " [1] Standard Errors assume that the covariance matrix of the errors is correctly specified."
      ],
      "text/plain": [
       "<class 'statsmodels.iolib.summary.Summary'>\n",
       "\"\"\"\n",
       "                            OLS Regression Results                            \n",
       "==============================================================================\n",
       "Dep. Variable:             crime_rate   R-squared:                       0.327\n",
       "Model:                            OLS   Adj. R-squared:                  0.313\n",
       "Method:                 Least Squares   F-statistic:                     23.39\n",
       "Date:                Wed, 20 Mar 2024   Prob (F-statistic):           1.50e-32\n",
       "Time:                        08:11:10   Log-Likelihood:                -571.77\n",
       "No. Observations:                 444   AIC:                             1164.\n",
       "Df Residuals:                     434   BIC:                             1205.\n",
       "Df Model:                           9                                         \n",
       "Covariance Type:            nonrobust                                         \n",
       "=====================================================================================\n",
       "                        coef    std err          t      P>|t|      [0.025      0.975]\n",
       "-------------------------------------------------------------------------------------\n",
       "const                -5.6388      0.042   -133.935      0.000      -5.722      -5.556\n",
       "tot_p                -0.5344      0.046    -11.542      0.000      -0.625      -0.443\n",
       "sc_share              0.2156      0.054      4.006      0.000       0.110       0.321\n",
       "st_share             -0.2634      0.060     -4.362      0.000      -0.382      -0.145\n",
       "ptg_share            -0.0315      0.045     -0.694      0.488      -0.121       0.058\n",
       "inc_5k_plus_share    -0.0269      0.056     -0.485      0.628      -0.136       0.082\n",
       "ed_prim_share        -0.1307      0.049     -2.662      0.008      -0.227      -0.034\n",
       "land_own_share       -0.1730      0.045     -3.841      0.000      -0.261      -0.084\n",
       "disab_share          -0.0257      0.046     -0.555      0.579      -0.117       0.065\n",
       "house_type3           0.0721      0.045      1.603      0.110      -0.016       0.160\n",
       "==============================================================================\n",
       "Omnibus:                       30.416   Durbin-Watson:                   1.098\n",
       "Prob(Omnibus):                  0.000   Jarque-Bera (JB):               41.013\n",
       "Skew:                           0.541   Prob(JB):                     1.24e-09\n",
       "Kurtosis:                       4.022   Cond. No.                         2.75\n",
       "==============================================================================\n",
       "\n",
       "Notes:\n",
       "[1] Standard Errors assume that the covariance matrix of the errors is correctly specified.\n",
       "\"\"\""
      ]
     },
     "execution_count": 255,
     "metadata": {},
     "output_type": "execute_result"
    }
   ],
   "source": [
    "# full features\n",
    "ols = sm.OLS(y, X)\n",
    "\n",
    "results = ols.fit()\n",
    "\n",
    "results.summary()"
   ]
  },
  {
   "cell_type": "code",
   "execution_count": 97,
   "id": "introductory-steps",
   "metadata": {},
   "outputs": [],
   "source": [
    "# try a non-parametric model"
   ]
  },
  {
   "cell_type": "code",
   "execution_count": 254,
   "id": "sonic-arrangement",
   "metadata": {},
   "outputs": [
    {
     "data": {
      "text/plain": [
       "0.07155136295915739"
      ]
     },
     "execution_count": 254,
     "metadata": {},
     "output_type": "execute_result"
    }
   ],
   "source": [
    "rf = RandomForestRegressor(n_estimators = 300)\n",
    "np.mean(cross_val_score(rf, X, y, scoring=\"r2\"))"
   ]
  },
  {
   "cell_type": "code",
   "execution_count": 187,
   "id": "attended-accent",
   "metadata": {},
   "outputs": [],
   "source": [
    "y_preds = cross_val_predict(rf, X, y)"
   ]
  },
  {
   "cell_type": "code",
   "execution_count": 256,
   "id": "expressed-viking",
   "metadata": {},
   "outputs": [
    {
     "data": {
      "text/plain": [
       "<Axes: ylabel='crime_rate'>"
      ]
     },
     "execution_count": 256,
     "metadata": {},
     "output_type": "execute_result"
    },
    {
     "data": {
      "image/png": "[encoded data removed]",
      "text/plain": [
       "<Figure size 640x480 with 1 Axes>"
      ]
     },
     "metadata": {},
     "output_type": "display_data"
    }
   ],
   "source": [
    "sns.scatterplot(data=analysis_df, y=\"crime_rate\", x = np.exp(y_preds))"
   ]
  },
  {
   "cell_type": "code",
   "execution_count": 257,
   "id": "42fee808-4f82-4270-a0a8-fd76f470d5ba",
   "metadata": {},
   "outputs": [
    {
     "data": {
      "text/html": [
       "<div>\n",
       "<style scoped>\n",
       "    .dataframe tbody tr th:only-of-type {\n",
       "        vertical-align: middle;\n",
       "    }\n",
       "\n",
       "    .dataframe tbody tr th {\n",
       "        vertical-align: top;\n",
       "    }\n",
       "\n",
       "    .dataframe thead th {\n",
       "        text-align: right;\n",
       "    }\n",
       "</style>\n",
       "<table border=\"1\" class=\"dataframe\">\n",
       "  <thead>\n",
       "    <tr style=\"text-align: right;\">\n",
       "      <th></th>\n",
       "      <th>0</th>\n",
       "      <th>1</th>\n",
       "    </tr>\n",
       "  </thead>\n",
       "  <tbody>\n",
       "    <tr>\n",
       "      <th>0</th>\n",
       "      <td>const</td>\n",
       "      <td>0.000000</td>\n",
       "    </tr>\n",
       "    <tr>\n",
       "      <th>4</th>\n",
       "      <td>ptg_share</td>\n",
       "      <td>0.036401</td>\n",
       "    </tr>\n",
       "    <tr>\n",
       "      <th>5</th>\n",
       "      <td>inc_5k_plus_share</td>\n",
       "      <td>0.040590</td>\n",
       "    </tr>\n",
       "    <tr>\n",
       "      <th>9</th>\n",
       "      <td>house_type3</td>\n",
       "      <td>0.048110</td>\n",
       "    </tr>\n",
       "    <tr>\n",
       "      <th>8</th>\n",
       "      <td>disab_share</td>\n",
       "      <td>0.053466</td>\n",
       "    </tr>\n",
       "    <tr>\n",
       "      <th>6</th>\n",
       "      <td>ed_prim_share</td>\n",
       "      <td>0.082915</td>\n",
       "    </tr>\n",
       "    <tr>\n",
       "      <th>3</th>\n",
       "      <td>st_share</td>\n",
       "      <td>0.090196</td>\n",
       "    </tr>\n",
       "    <tr>\n",
       "      <th>7</th>\n",
       "      <td>land_own_share</td>\n",
       "      <td>0.111016</td>\n",
       "    </tr>\n",
       "    <tr>\n",
       "      <th>2</th>\n",
       "      <td>sc_share</td>\n",
       "      <td>0.179413</td>\n",
       "    </tr>\n",
       "    <tr>\n",
       "      <th>1</th>\n",
       "      <td>tot_p</td>\n",
       "      <td>0.357894</td>\n",
       "    </tr>\n",
       "  </tbody>\n",
       "</table>\n",
       "</div>"
      ],
      "text/plain": [
       "                   0         1\n",
       "0              const  0.000000\n",
       "4          ptg_share  0.036401\n",
       "5  inc_5k_plus_share  0.040590\n",
       "9        house_type3  0.048110\n",
       "8        disab_share  0.053466\n",
       "6      ed_prim_share  0.082915\n",
       "3           st_share  0.090196\n",
       "7     land_own_share  0.111016\n",
       "2           sc_share  0.179413\n",
       "1              tot_p  0.357894"
      ]
     },
     "execution_count": 257,
     "metadata": {},
     "output_type": "execute_result"
    }
   ],
   "source": [
    "rf.fit(X,y)\n",
    "pd.DataFrame(zip(X.columns, rf.feature_importances_)).sort_values(1)"
   ]
  },
  {
   "cell_type": "code",
   "execution_count": 250,
   "id": "286a88b0-59d9-4717-bb4a-2b477d64b2f3",
   "metadata": {},
   "outputs": [
    {
     "data": {
      "text/plain": [
       "0.05834955288866037"
      ]
     },
     "execution_count": 250,
     "metadata": {},
     "output_type": "execute_result"
    }
   ],
   "source": [
    "ls = Lasso(alpha=0.05)\n",
    "\n",
    "np.mean(cross_val_score(ls, X, y, scoring=\"r2\"))"
   ]
  },
  {
   "cell_type": "code",
   "execution_count": 251,
   "id": "4db6a5ec-afcc-48fc-8214-8dcafc30e5b4",
   "metadata": {},
   "outputs": [
    {
     "data": {
      "text/html": [
       "<div>\n",
       "<style scoped>\n",
       "    .dataframe tbody tr th:only-of-type {\n",
       "        vertical-align: middle;\n",
       "    }\n",
       "\n",
       "    .dataframe tbody tr th {\n",
       "        vertical-align: top;\n",
       "    }\n",
       "\n",
       "    .dataframe thead th {\n",
       "        text-align: right;\n",
       "    }\n",
       "</style>\n",
       "<table border=\"1\" class=\"dataframe\">\n",
       "  <thead>\n",
       "    <tr style=\"text-align: right;\">\n",
       "      <th></th>\n",
       "      <th>0</th>\n",
       "      <th>1</th>\n",
       "    </tr>\n",
       "  </thead>\n",
       "  <tbody>\n",
       "    <tr>\n",
       "      <th>1</th>\n",
       "      <td>tot_p</td>\n",
       "      <td>-0.438386</td>\n",
       "    </tr>\n",
       "    <tr>\n",
       "      <th>3</th>\n",
       "      <td>st_share</td>\n",
       "      <td>-0.190096</td>\n",
       "    </tr>\n",
       "    <tr>\n",
       "      <th>7</th>\n",
       "      <td>land_own_share</td>\n",
       "      <td>-0.101251</td>\n",
       "    </tr>\n",
       "    <tr>\n",
       "      <th>6</th>\n",
       "      <td>ed_prim_share</td>\n",
       "      <td>-0.068859</td>\n",
       "    </tr>\n",
       "    <tr>\n",
       "      <th>0</th>\n",
       "      <td>const</td>\n",
       "      <td>0.000000</td>\n",
       "    </tr>\n",
       "    <tr>\n",
       "      <th>4</th>\n",
       "      <td>ptg_share</td>\n",
       "      <td>-0.000000</td>\n",
       "    </tr>\n",
       "    <tr>\n",
       "      <th>5</th>\n",
       "      <td>inc_5k_plus_share</td>\n",
       "      <td>-0.000000</td>\n",
       "    </tr>\n",
       "    <tr>\n",
       "      <th>8</th>\n",
       "      <td>disab_share</td>\n",
       "      <td>-0.000000</td>\n",
       "    </tr>\n",
       "    <tr>\n",
       "      <th>9</th>\n",
       "      <td>house_type3</td>\n",
       "      <td>0.009963</td>\n",
       "    </tr>\n",
       "    <tr>\n",
       "      <th>2</th>\n",
       "      <td>sc_share</td>\n",
       "      <td>0.199565</td>\n",
       "    </tr>\n",
       "  </tbody>\n",
       "</table>\n",
       "</div>"
      ],
      "text/plain": [
       "                   0         1\n",
       "1              tot_p -0.438386\n",
       "3           st_share -0.190096\n",
       "7     land_own_share -0.101251\n",
       "6      ed_prim_share -0.068859\n",
       "0              const  0.000000\n",
       "4          ptg_share -0.000000\n",
       "5  inc_5k_plus_share -0.000000\n",
       "8        disab_share -0.000000\n",
       "9        house_type3  0.009963\n",
       "2           sc_share  0.199565"
      ]
     },
     "execution_count": 251,
     "metadata": {},
     "output_type": "execute_result"
    }
   ],
   "source": [
    "ls.fit(X, y)\n",
    "pd.DataFrame(zip(X.columns, ls.coef_)).sort_values(by=1)"
   ]
  },
  {
   "cell_type": "code",
   "execution_count": 191,
   "id": "7244e880-5272-4859-89fb-b926c3e8056c",
   "metadata": {},
   "outputs": [],
   "source": [
    "y_preds = cross_val_predict(ls, X, y)"
   ]
  },
  {
   "cell_type": "code",
   "execution_count": 193,
   "id": "57107fe1-8855-4a7d-8310-272d4facdea7",
   "metadata": {},
   "outputs": [
    {
     "data": {
      "text/plain": [
       "<Axes: ylabel='crime_rate'>"
      ]
     },
     "execution_count": 193,
     "metadata": {},
     "output_type": "execute_result"
    },
    {
     "data": {
      "image/png": "[encoded data removed]",
      "text/plain": [
       "<Figure size 640x480 with 1 Axes>"
      ]
     },
     "metadata": {},
     "output_type": "display_data"
    }
   ],
   "source": [
    "sns.scatterplot(data=analysis_df, y=\"crime_rate\", x = np.exp(y_preds))"
   ]
  },
  {
   "cell_type": "markdown",
   "id": "6bcfb57b-0028-47c1-ad82-ad4eb552d22e",
   "metadata": {},
   "source": [
    "### Other IPC Analysis"
   ]
  },
  {
   "cell_type": "code",
   "execution_count": 234,
   "id": "0d234d64-0ac2-4245-a9f3-53d3b23f0de1",
   "metadata": {},
   "outputs": [],
   "source": [
    "X = sm.add_constant(analysis_df[features].apply(norm, axis=0))\n",
    "y = np.log(analysis_df[\"other_ipc_rate\"])"
   ]
  },
  {
   "cell_type": "code",
   "execution_count": 195,
   "id": "721ed170-1e6f-4cc7-8508-95d8f7023487",
   "metadata": {},
   "outputs": [
    {
     "data": {
      "text/html": [
       "<table class=\"simpletable\">\n",
       "<caption>OLS Regression Results</caption>\n",
       "<tr>\n",
       "  <th>Dep. Variable:</th>     <td>other_ipc_rate</td>  <th>  R-squared:         </th> <td>   0.338</td>\n",
       "</tr>\n",
       "<tr>\n",
       "  <th>Model:</th>                   <td>OLS</td>       <th>  Adj. R-squared:    </th> <td>   0.325</td>\n",
       "</tr>\n",
       "<tr>\n",
       "  <th>Method:</th>             <td>Least Squares</td>  <th>  F-statistic:       </th> <td>   24.68</td>\n",
       "</tr>\n",
       "<tr>\n",
       "  <th>Date:</th>             <td>Tue, 19 Mar 2024</td> <th>  Prob (F-statistic):</th> <td>3.55e-34</td>\n",
       "</tr>\n",
       "<tr>\n",
       "  <th>Time:</th>                 <td>21:27:09</td>     <th>  Log-Likelihood:    </th> <td> -643.10</td>\n",
       "</tr>\n",
       "<tr>\n",
       "  <th>No. Observations:</th>      <td>   444</td>      <th>  AIC:               </th> <td>   1306.</td>\n",
       "</tr>\n",
       "<tr>\n",
       "  <th>Df Residuals:</th>          <td>   434</td>      <th>  BIC:               </th> <td>   1347.</td>\n",
       "</tr>\n",
       "<tr>\n",
       "  <th>Df Model:</th>              <td>     9</td>      <th>                     </th>     <td> </td>   \n",
       "</tr>\n",
       "<tr>\n",
       "  <th>Covariance Type:</th>      <td>nonrobust</td>    <th>                     </th>     <td> </td>   \n",
       "</tr>\n",
       "</table>\n",
       "<table class=\"simpletable\">\n",
       "<tr>\n",
       "          <td></td>             <th>coef</th>     <th>std err</th>      <th>t</th>      <th>P>|t|</th>  <th>[0.025</th>    <th>0.975]</th>  \n",
       "</tr>\n",
       "<tr>\n",
       "  <th>const</th>             <td>   -6.6813</td> <td>    0.049</td> <td> -135.145</td> <td> 0.000</td> <td>   -6.778</td> <td>   -6.584</td>\n",
       "</tr>\n",
       "<tr>\n",
       "  <th>tot_p</th>             <td>   -0.6416</td> <td>    0.054</td> <td>  -11.802</td> <td> 0.000</td> <td>   -0.748</td> <td>   -0.535</td>\n",
       "</tr>\n",
       "<tr>\n",
       "  <th>sc_share</th>          <td>    0.2371</td> <td>    0.063</td> <td>    3.751</td> <td> 0.000</td> <td>    0.113</td> <td>    0.361</td>\n",
       "</tr>\n",
       "<tr>\n",
       "  <th>st_share</th>          <td>   -0.3780</td> <td>    0.071</td> <td>   -5.333</td> <td> 0.000</td> <td>   -0.517</td> <td>   -0.239</td>\n",
       "</tr>\n",
       "<tr>\n",
       "  <th>ptg_share</th>         <td>   -0.0512</td> <td>    0.053</td> <td>   -0.963</td> <td> 0.336</td> <td>   -0.156</td> <td>    0.053</td>\n",
       "</tr>\n",
       "<tr>\n",
       "  <th>inc_5k_plus_share</th> <td>   -0.0806</td> <td>    0.065</td> <td>   -1.237</td> <td> 0.217</td> <td>   -0.209</td> <td>    0.047</td>\n",
       "</tr>\n",
       "<tr>\n",
       "  <th>ed_prim_share</th>     <td>   -0.1451</td> <td>    0.058</td> <td>   -2.517</td> <td> 0.012</td> <td>   -0.258</td> <td>   -0.032</td>\n",
       "</tr>\n",
       "<tr>\n",
       "  <th>land_own_share</th>    <td>   -0.1428</td> <td>    0.053</td> <td>   -2.701</td> <td> 0.007</td> <td>   -0.247</td> <td>   -0.039</td>\n",
       "</tr>\n",
       "<tr>\n",
       "  <th>disab_share</th>       <td>    0.0117</td> <td>    0.054</td> <td>    0.216</td> <td> 0.829</td> <td>   -0.095</td> <td>    0.119</td>\n",
       "</tr>\n",
       "<tr>\n",
       "  <th>house_type3</th>       <td>    0.1025</td> <td>    0.053</td> <td>    1.940</td> <td> 0.053</td> <td>   -0.001</td> <td>    0.206</td>\n",
       "</tr>\n",
       "</table>\n",
       "<table class=\"simpletable\">\n",
       "<tr>\n",
       "  <th>Omnibus:</th>       <td> 5.186</td> <th>  Durbin-Watson:     </th> <td>   1.111</td>\n",
       "</tr>\n",
       "<tr>\n",
       "  <th>Prob(Omnibus):</th> <td> 0.075</td> <th>  Jarque-Bera (JB):  </th> <td>   6.892</td>\n",
       "</tr>\n",
       "<tr>\n",
       "  <th>Skew:</th>          <td>-0.036</td> <th>  Prob(JB):          </th> <td>  0.0319</td>\n",
       "</tr>\n",
       "<tr>\n",
       "  <th>Kurtosis:</th>      <td> 3.606</td> <th>  Cond. No.          </th> <td>    2.75</td>\n",
       "</tr>\n",
       "</table><br/><br/>Notes:<br/>[1] Standard Errors assume that the covariance matrix of the errors is correctly specified."
      ],
      "text/latex": [
       "\\begin{center}\n",
       "\\begin{tabular}{lclc}\n",
       "\\toprule\n",
       "\\textbf{Dep. Variable:}       & other\\_ipc\\_rate & \\textbf{  R-squared:         } &     0.338   \\\\\n",
       "\\textbf{Model:}               &       OLS        & \\textbf{  Adj. R-squared:    } &     0.325   \\\\\n",
       "\\textbf{Method:}              &  Least Squares   & \\textbf{  F-statistic:       } &     24.68   \\\\\n",
       "\\textbf{Date:}                & Tue, 19 Mar 2024 & \\textbf{  Prob (F-statistic):} &  3.55e-34   \\\\\n",
       "\\textbf{Time:}                &     21:27:09     & \\textbf{  Log-Likelihood:    } &   -643.10   \\\\\n",
       "\\textbf{No. Observations:}    &         444      & \\textbf{  AIC:               } &     1306.   \\\\\n",
       "\\textbf{Df Residuals:}        &         434      & \\textbf{  BIC:               } &     1347.   \\\\\n",
       "\\textbf{Df Model:}            &           9      & \\textbf{                     } &             \\\\\n",
       "\\textbf{Covariance Type:}     &    nonrobust     & \\textbf{                     } &             \\\\\n",
       "\\bottomrule\n",
       "\\end{tabular}\n",
       "\\begin{tabular}{lcccccc}\n",
       "                              & \\textbf{coef} & \\textbf{std err} & \\textbf{t} & \\textbf{P$> |$t$|$} & \\textbf{[0.025} & \\textbf{0.975]}  \\\\\n",
       "\\midrule\n",
       "\\textbf{const}                &      -6.6813  &        0.049     &  -135.145  &         0.000        &       -6.778    &       -6.584     \\\\\n",
       "\\textbf{tot\\_p}               &      -0.6416  &        0.054     &   -11.802  &         0.000        &       -0.748    &       -0.535     \\\\\n",
       "\\textbf{sc\\_share}            &       0.2371  &        0.063     &     3.751  &         0.000        &        0.113    &        0.361     \\\\\n",
       "\\textbf{st\\_share}            &      -0.3780  &        0.071     &    -5.333  &         0.000        &       -0.517    &       -0.239     \\\\\n",
       "\\textbf{ptg\\_share}           &      -0.0512  &        0.053     &    -0.963  &         0.336        &       -0.156    &        0.053     \\\\\n",
       "\\textbf{inc\\_5k\\_plus\\_share} &      -0.0806  &        0.065     &    -1.237  &         0.217        &       -0.209    &        0.047     \\\\\n",
       "\\textbf{ed\\_prim\\_share}      &      -0.1451  &        0.058     &    -2.517  &         0.012        &       -0.258    &       -0.032     \\\\\n",
       "\\textbf{land\\_own\\_share}     &      -0.1428  &        0.053     &    -2.701  &         0.007        &       -0.247    &       -0.039     \\\\\n",
       "\\textbf{disab\\_share}         &       0.0117  &        0.054     &     0.216  &         0.829        &       -0.095    &        0.119     \\\\\n",
       "\\textbf{house\\_type3}         &       0.1025  &        0.053     &     1.940  &         0.053        &       -0.001    &        0.206     \\\\\n",
       "\\bottomrule\n",
       "\\end{tabular}\n",
       "\\begin{tabular}{lclc}\n",
       "\\textbf{Omnibus:}       &  5.186 & \\textbf{  Durbin-Watson:     } &    1.111  \\\\\n",
       "\\textbf{Prob(Omnibus):} &  0.075 & \\textbf{  Jarque-Bera (JB):  } &    6.892  \\\\\n",
       "\\textbf{Skew:}          & -0.036 & \\textbf{  Prob(JB):          } &   0.0319  \\\\\n",
       "\\textbf{Kurtosis:}      &  3.606 & \\textbf{  Cond. No.          } &     2.75  \\\\\n",
       "\\bottomrule\n",
       "\\end{tabular}\n",
       "%\\caption{OLS Regression Results}\n",
       "\\end{center}\n",
       "\n",
       "Notes: \\newline\n",
       " [1] Standard Errors assume that the covariance matrix of the errors is correctly specified."
      ],
      "text/plain": [
       "<class 'statsmodels.iolib.summary.Summary'>\n",
       "\"\"\"\n",
       "                            OLS Regression Results                            \n",
       "==============================================================================\n",
       "Dep. Variable:         other_ipc_rate   R-squared:                       0.338\n",
       "Model:                            OLS   Adj. R-squared:                  0.325\n",
       "Method:                 Least Squares   F-statistic:                     24.68\n",
       "Date:                Tue, 19 Mar 2024   Prob (F-statistic):           3.55e-34\n",
       "Time:                        21:27:09   Log-Likelihood:                -643.10\n",
       "No. Observations:                 444   AIC:                             1306.\n",
       "Df Residuals:                     434   BIC:                             1347.\n",
       "Df Model:                           9                                         \n",
       "Covariance Type:            nonrobust                                         \n",
       "=====================================================================================\n",
       "                        coef    std err          t      P>|t|      [0.025      0.975]\n",
       "-------------------------------------------------------------------------------------\n",
       "const                -6.6813      0.049   -135.145      0.000      -6.778      -6.584\n",
       "tot_p                -0.6416      0.054    -11.802      0.000      -0.748      -0.535\n",
       "sc_share              0.2371      0.063      3.751      0.000       0.113       0.361\n",
       "st_share             -0.3780      0.071     -5.333      0.000      -0.517      -0.239\n",
       "ptg_share            -0.0512      0.053     -0.963      0.336      -0.156       0.053\n",
       "inc_5k_plus_share    -0.0806      0.065     -1.237      0.217      -0.209       0.047\n",
       "ed_prim_share        -0.1451      0.058     -2.517      0.012      -0.258      -0.032\n",
       "land_own_share       -0.1428      0.053     -2.701      0.007      -0.247      -0.039\n",
       "disab_share           0.0117      0.054      0.216      0.829      -0.095       0.119\n",
       "house_type3           0.1025      0.053      1.940      0.053      -0.001       0.206\n",
       "==============================================================================\n",
       "Omnibus:                        5.186   Durbin-Watson:                   1.111\n",
       "Prob(Omnibus):                  0.075   Jarque-Bera (JB):                6.892\n",
       "Skew:                          -0.036   Prob(JB):                       0.0319\n",
       "Kurtosis:                       3.606   Cond. No.                         2.75\n",
       "==============================================================================\n",
       "\n",
       "Notes:\n",
       "[1] Standard Errors assume that the covariance matrix of the errors is correctly specified.\n",
       "\"\"\""
      ]
     },
     "execution_count": 195,
     "metadata": {},
     "output_type": "execute_result"
    }
   ],
   "source": [
    "\n",
    "ols = sm.OLS(y, X)\n",
    "\n",
    "results = ols.fit()\n",
    "\n",
    "results.summary()"
   ]
  },
  {
   "cell_type": "code",
   "execution_count": 235,
   "id": "672c84dd-f3bb-41b4-9240-3d6f009d4db2",
   "metadata": {},
   "outputs": [
    {
     "data": {
      "text/plain": [
       "-0.3014839328199116"
      ]
     },
     "execution_count": 235,
     "metadata": {},
     "output_type": "execute_result"
    }
   ],
   "source": [
    "rf = RandomForestRegressor(n_estimators = 300)\n",
    "np.mean(cross_val_score(rf, X, y, scoring=\"r2\"))"
   ]
  },
  {
   "cell_type": "code",
   "execution_count": 219,
   "id": "12d16b75-9fda-479f-9c87-4a120af01893",
   "metadata": {},
   "outputs": [],
   "source": [
    "y_preds = cross_val_predict(rf, X, y)"
   ]
  },
  {
   "cell_type": "code",
   "execution_count": 220,
   "id": "f2ae4485-cc02-41f9-a965-a9651101cadc",
   "metadata": {
    "scrolled": true
   },
   "outputs": [
    {
     "data": {
      "text/plain": [
       "<Axes: ylabel='other_ipc_rate'>"
      ]
     },
     "execution_count": 220,
     "metadata": {},
     "output_type": "execute_result"
    },
    {
     "data": {
      "image/png": "[encoded data removed]",
      "text/plain": [
       "<Figure size 640x480 with 1 Axes>"
      ]
     },
     "metadata": {},
     "output_type": "display_data"
    }
   ],
   "source": [
    "sns.scatterplot(data=analysis_df, y=\"other_ipc_rate\", x = np.exp(y_preds))"
   ]
  },
  {
   "cell_type": "code",
   "execution_count": 223,
   "id": "7cc6dff8-8781-45d6-b97e-a32377d55019",
   "metadata": {},
   "outputs": [
    {
     "data": {
      "text/html": [
       "<div>\n",
       "<style scoped>\n",
       "    .dataframe tbody tr th:only-of-type {\n",
       "        vertical-align: middle;\n",
       "    }\n",
       "\n",
       "    .dataframe tbody tr th {\n",
       "        vertical-align: top;\n",
       "    }\n",
       "\n",
       "    .dataframe thead th {\n",
       "        text-align: right;\n",
       "    }\n",
       "</style>\n",
       "<table border=\"1\" class=\"dataframe\">\n",
       "  <thead>\n",
       "    <tr style=\"text-align: right;\">\n",
       "      <th></th>\n",
       "      <th>0</th>\n",
       "      <th>1</th>\n",
       "    </tr>\n",
       "  </thead>\n",
       "  <tbody>\n",
       "    <tr>\n",
       "      <th>0</th>\n",
       "      <td>const</td>\n",
       "      <td>0.000000</td>\n",
       "    </tr>\n",
       "    <tr>\n",
       "      <th>4</th>\n",
       "      <td>ptg_share</td>\n",
       "      <td>0.038716</td>\n",
       "    </tr>\n",
       "    <tr>\n",
       "      <th>8</th>\n",
       "      <td>disab_share</td>\n",
       "      <td>0.052791</td>\n",
       "    </tr>\n",
       "    <tr>\n",
       "      <th>9</th>\n",
       "      <td>house_type3</td>\n",
       "      <td>0.058785</td>\n",
       "    </tr>\n",
       "    <tr>\n",
       "      <th>5</th>\n",
       "      <td>inc_5k_plus_share</td>\n",
       "      <td>0.066347</td>\n",
       "    </tr>\n",
       "    <tr>\n",
       "      <th>6</th>\n",
       "      <td>ed_prim_share</td>\n",
       "      <td>0.070755</td>\n",
       "    </tr>\n",
       "    <tr>\n",
       "      <th>7</th>\n",
       "      <td>land_own_share</td>\n",
       "      <td>0.093021</td>\n",
       "    </tr>\n",
       "    <tr>\n",
       "      <th>3</th>\n",
       "      <td>st_share</td>\n",
       "      <td>0.101090</td>\n",
       "    </tr>\n",
       "    <tr>\n",
       "      <th>2</th>\n",
       "      <td>sc_share</td>\n",
       "      <td>0.180570</td>\n",
       "    </tr>\n",
       "    <tr>\n",
       "      <th>1</th>\n",
       "      <td>tot_p</td>\n",
       "      <td>0.337926</td>\n",
       "    </tr>\n",
       "  </tbody>\n",
       "</table>\n",
       "</div>"
      ],
      "text/plain": [
       "                   0         1\n",
       "0              const  0.000000\n",
       "4          ptg_share  0.038716\n",
       "8        disab_share  0.052791\n",
       "9        house_type3  0.058785\n",
       "5  inc_5k_plus_share  0.066347\n",
       "6      ed_prim_share  0.070755\n",
       "7     land_own_share  0.093021\n",
       "3           st_share  0.101090\n",
       "2           sc_share  0.180570\n",
       "1              tot_p  0.337926"
      ]
     },
     "execution_count": 223,
     "metadata": {},
     "output_type": "execute_result"
    }
   ],
   "source": [
    "rf.fit(X,y)\n",
    "pd.DataFrame(zip(X.columns, rf.feature_importances_)).sort_values(1)"
   ]
  },
  {
   "cell_type": "code",
   "execution_count": 200,
   "id": "acedff50-644a-4023-a4e8-0544acb57953",
   "metadata": {},
   "outputs": [
    {
     "data": {
      "text/plain": [
       "array([-0.77488174, -0.85147384, -1.24644168, -0.79656473, -1.12662917])"
      ]
     },
     "execution_count": 200,
     "metadata": {},
     "output_type": "execute_result"
    }
   ],
   "source": [
    "ls = Lasso(alpha=0.1)\n",
    "\n",
    "cross_val_score(ls, X, y, scoring=\"neg_mean_absolute_error\")"
   ]
  },
  {
   "cell_type": "code",
   "execution_count": 201,
   "id": "78ba7224-4353-4cd0-8e67-4f39ec213b89",
   "metadata": {},
   "outputs": [],
   "source": [
    "y_preds = cross_val_predict(ls, X, y)"
   ]
  },
  {
   "cell_type": "code",
   "execution_count": 202,
   "id": "82198085-7e70-4d5a-8174-7e3c41d5f5b9",
   "metadata": {},
   "outputs": [
    {
     "data": {
      "text/plain": [
       "<Axes: ylabel='other_ipc_rate'>"
      ]
     },
     "execution_count": 202,
     "metadata": {},
     "output_type": "execute_result"
    },
    {
     "data": {
      "image/png": "[encoded data removed]",
      "text/plain": [
       "<Figure size 640x480 with 1 Axes>"
      ]
     },
     "metadata": {},
     "output_type": "display_data"
    }
   ],
   "source": [
    "sns.scatterplot(data=analysis_df, y=\"other_ipc_rate\", x = np.exp(y_preds))"
   ]
  },
  {
   "cell_type": "code",
   "execution_count": 203,
   "id": "118343d7-43dc-4e28-aae2-45165aac40f8",
   "metadata": {},
   "outputs": [
    {
     "data": {
      "text/html": [
       "<div>\n",
       "<style scoped>\n",
       "    .dataframe tbody tr th:only-of-type {\n",
       "        vertical-align: middle;\n",
       "    }\n",
       "\n",
       "    .dataframe tbody tr th {\n",
       "        vertical-align: top;\n",
       "    }\n",
       "\n",
       "    .dataframe thead th {\n",
       "        text-align: right;\n",
       "    }\n",
       "</style>\n",
       "<table border=\"1\" class=\"dataframe\">\n",
       "  <thead>\n",
       "    <tr style=\"text-align: right;\">\n",
       "      <th></th>\n",
       "      <th>0</th>\n",
       "      <th>1</th>\n",
       "    </tr>\n",
       "  </thead>\n",
       "  <tbody>\n",
       "    <tr>\n",
       "      <th>1</th>\n",
       "      <td>tot_p</td>\n",
       "      <td>-0.440154</td>\n",
       "    </tr>\n",
       "    <tr>\n",
       "      <th>3</th>\n",
       "      <td>st_share</td>\n",
       "      <td>-0.222824</td>\n",
       "    </tr>\n",
       "    <tr>\n",
       "      <th>6</th>\n",
       "      <td>ed_prim_share</td>\n",
       "      <td>-0.034508</td>\n",
       "    </tr>\n",
       "    <tr>\n",
       "      <th>0</th>\n",
       "      <td>const</td>\n",
       "      <td>0.000000</td>\n",
       "    </tr>\n",
       "    <tr>\n",
       "      <th>4</th>\n",
       "      <td>ptg_share</td>\n",
       "      <td>-0.000000</td>\n",
       "    </tr>\n",
       "    <tr>\n",
       "      <th>5</th>\n",
       "      <td>inc_5k_plus_share</td>\n",
       "      <td>-0.000000</td>\n",
       "    </tr>\n",
       "    <tr>\n",
       "      <th>7</th>\n",
       "      <td>land_own_share</td>\n",
       "      <td>-0.000000</td>\n",
       "    </tr>\n",
       "    <tr>\n",
       "      <th>8</th>\n",
       "      <td>disab_share</td>\n",
       "      <td>0.000000</td>\n",
       "    </tr>\n",
       "    <tr>\n",
       "      <th>9</th>\n",
       "      <td>house_type3</td>\n",
       "      <td>0.000000</td>\n",
       "    </tr>\n",
       "    <tr>\n",
       "      <th>2</th>\n",
       "      <td>sc_share</td>\n",
       "      <td>0.206977</td>\n",
       "    </tr>\n",
       "  </tbody>\n",
       "</table>\n",
       "</div>"
      ],
      "text/plain": [
       "                   0         1\n",
       "1              tot_p -0.440154\n",
       "3           st_share -0.222824\n",
       "6      ed_prim_share -0.034508\n",
       "0              const  0.000000\n",
       "4          ptg_share -0.000000\n",
       "5  inc_5k_plus_share -0.000000\n",
       "7     land_own_share -0.000000\n",
       "8        disab_share  0.000000\n",
       "9        house_type3  0.000000\n",
       "2           sc_share  0.206977"
      ]
     },
     "execution_count": 203,
     "metadata": {},
     "output_type": "execute_result"
    }
   ],
   "source": [
    "ls.fit(X, y)\n",
    "pd.DataFrame(zip(X.columns, ls.coef_)).sort_values(by=1)"
   ]
  },
  {
   "cell_type": "markdown",
   "id": "4a4408fe-9948-47ca-afcf-f20ae9b00130",
   "metadata": {},
   "source": [
    "### Srs vs non srs crimes"
   ]
  },
  {
   "cell_type": "code",
   "execution_count": 236,
   "id": "599cf36f-bdef-43b0-a70a-da9285ebc1b8",
   "metadata": {},
   "outputs": [],
   "source": [
    "X = sm.add_constant(analysis_df[features].apply(norm, axis=0))\n",
    "y = np.log(analysis_df[\"other_crime_proportion\"])"
   ]
  },
  {
   "cell_type": "code",
   "execution_count": 237,
   "id": "a693d185-f2ca-4fd8-a378-8c5ae2191ca7",
   "metadata": {},
   "outputs": [
    {
     "data": {
      "text/html": [
       "<table class=\"simpletable\">\n",
       "<caption>OLS Regression Results</caption>\n",
       "<tr>\n",
       "  <th>Dep. Variable:</th>    <td>other_crime_proportion</td> <th>  R-squared:         </th> <td>   0.131</td>\n",
       "</tr>\n",
       "<tr>\n",
       "  <th>Model:</th>                      <td>OLS</td>          <th>  Adj. R-squared:    </th> <td>   0.113</td>\n",
       "</tr>\n",
       "<tr>\n",
       "  <th>Method:</th>                <td>Least Squares</td>     <th>  F-statistic:       </th> <td>   7.276</td>\n",
       "</tr>\n",
       "<tr>\n",
       "  <th>Date:</th>                <td>Wed, 20 Mar 2024</td>    <th>  Prob (F-statistic):</th> <td>6.96e-10</td>\n",
       "</tr>\n",
       "<tr>\n",
       "  <th>Time:</th>                    <td>08:07:54</td>        <th>  Log-Likelihood:    </th> <td> -240.18</td>\n",
       "</tr>\n",
       "<tr>\n",
       "  <th>No. Observations:</th>         <td>   444</td>         <th>  AIC:               </th> <td>   500.4</td>\n",
       "</tr>\n",
       "<tr>\n",
       "  <th>Df Residuals:</th>             <td>   434</td>         <th>  BIC:               </th> <td>   541.3</td>\n",
       "</tr>\n",
       "<tr>\n",
       "  <th>Df Model:</th>                 <td>     9</td>         <th>                     </th>     <td> </td>   \n",
       "</tr>\n",
       "<tr>\n",
       "  <th>Covariance Type:</th>         <td>nonrobust</td>       <th>                     </th>     <td> </td>   \n",
       "</tr>\n",
       "</table>\n",
       "<table class=\"simpletable\">\n",
       "<tr>\n",
       "          <td></td>             <th>coef</th>     <th>std err</th>      <th>t</th>      <th>P>|t|</th>  <th>[0.025</th>    <th>0.975]</th>  \n",
       "</tr>\n",
       "<tr>\n",
       "  <th>const</th>             <td>   -1.0424</td> <td>    0.020</td> <td>  -52.251</td> <td> 0.000</td> <td>   -1.082</td> <td>   -1.003</td>\n",
       "</tr>\n",
       "<tr>\n",
       "  <th>tot_p</th>             <td>   -0.1072</td> <td>    0.022</td> <td>   -4.888</td> <td> 0.000</td> <td>   -0.150</td> <td>   -0.064</td>\n",
       "</tr>\n",
       "<tr>\n",
       "  <th>sc_share</th>          <td>    0.0215</td> <td>    0.026</td> <td>    0.841</td> <td> 0.401</td> <td>   -0.029</td> <td>    0.072</td>\n",
       "</tr>\n",
       "<tr>\n",
       "  <th>st_share</th>          <td>   -0.1147</td> <td>    0.029</td> <td>   -4.009</td> <td> 0.000</td> <td>   -0.171</td> <td>   -0.058</td>\n",
       "</tr>\n",
       "<tr>\n",
       "  <th>ptg_share</th>         <td>   -0.0198</td> <td>    0.021</td> <td>   -0.921</td> <td> 0.357</td> <td>   -0.062</td> <td>    0.022</td>\n",
       "</tr>\n",
       "<tr>\n",
       "  <th>inc_5k_plus_share</th> <td>   -0.0537</td> <td>    0.026</td> <td>   -2.043</td> <td> 0.042</td> <td>   -0.105</td> <td>   -0.002</td>\n",
       "</tr>\n",
       "<tr>\n",
       "  <th>ed_prim_share</th>     <td>   -0.0144</td> <td>    0.023</td> <td>   -0.619</td> <td> 0.536</td> <td>   -0.060</td> <td>    0.031</td>\n",
       "</tr>\n",
       "<tr>\n",
       "  <th>land_own_share</th>    <td>    0.0301</td> <td>    0.021</td> <td>    1.413</td> <td> 0.158</td> <td>   -0.012</td> <td>    0.072</td>\n",
       "</tr>\n",
       "<tr>\n",
       "  <th>disab_share</th>       <td>    0.0375</td> <td>    0.022</td> <td>    1.705</td> <td> 0.089</td> <td>   -0.006</td> <td>    0.081</td>\n",
       "</tr>\n",
       "<tr>\n",
       "  <th>house_type3</th>       <td>    0.0304</td> <td>    0.021</td> <td>    1.425</td> <td> 0.155</td> <td>   -0.012</td> <td>    0.072</td>\n",
       "</tr>\n",
       "</table>\n",
       "<table class=\"simpletable\">\n",
       "<tr>\n",
       "  <th>Omnibus:</th>       <td>89.801</td> <th>  Durbin-Watson:     </th> <td>   1.316</td>\n",
       "</tr>\n",
       "<tr>\n",
       "  <th>Prob(Omnibus):</th> <td> 0.000</td> <th>  Jarque-Bera (JB):  </th> <td> 297.831</td>\n",
       "</tr>\n",
       "<tr>\n",
       "  <th>Skew:</th>          <td>-0.903</td> <th>  Prob(JB):          </th> <td>2.12e-65</td>\n",
       "</tr>\n",
       "<tr>\n",
       "  <th>Kurtosis:</th>      <td> 6.583</td> <th>  Cond. No.          </th> <td>    2.75</td>\n",
       "</tr>\n",
       "</table><br/><br/>Notes:<br/>[1] Standard Errors assume that the covariance matrix of the errors is correctly specified."
      ],
      "text/latex": [
       "\\begin{center}\n",
       "\\begin{tabular}{lclc}\n",
       "\\toprule\n",
       "\\textbf{Dep. Variable:}       & other\\_crime\\_proportion & \\textbf{  R-squared:         } &     0.131   \\\\\n",
       "\\textbf{Model:}               &           OLS            & \\textbf{  Adj. R-squared:    } &     0.113   \\\\\n",
       "\\textbf{Method:}              &      Least Squares       & \\textbf{  F-statistic:       } &     7.276   \\\\\n",
       "\\textbf{Date:}                &     Wed, 20 Mar 2024     & \\textbf{  Prob (F-statistic):} &  6.96e-10   \\\\\n",
       "\\textbf{Time:}                &         08:07:54         & \\textbf{  Log-Likelihood:    } &   -240.18   \\\\\n",
       "\\textbf{No. Observations:}    &             444          & \\textbf{  AIC:               } &     500.4   \\\\\n",
       "\\textbf{Df Residuals:}        &             434          & \\textbf{  BIC:               } &     541.3   \\\\\n",
       "\\textbf{Df Model:}            &               9          & \\textbf{                     } &             \\\\\n",
       "\\textbf{Covariance Type:}     &        nonrobust         & \\textbf{                     } &             \\\\\n",
       "\\bottomrule\n",
       "\\end{tabular}\n",
       "\\begin{tabular}{lcccccc}\n",
       "                              & \\textbf{coef} & \\textbf{std err} & \\textbf{t} & \\textbf{P$> |$t$|$} & \\textbf{[0.025} & \\textbf{0.975]}  \\\\\n",
       "\\midrule\n",
       "\\textbf{const}                &      -1.0424  &        0.020     &   -52.251  &         0.000        &       -1.082    &       -1.003     \\\\\n",
       "\\textbf{tot\\_p}               &      -0.1072  &        0.022     &    -4.888  &         0.000        &       -0.150    &       -0.064     \\\\\n",
       "\\textbf{sc\\_share}            &       0.0215  &        0.026     &     0.841  &         0.401        &       -0.029    &        0.072     \\\\\n",
       "\\textbf{st\\_share}            &      -0.1147  &        0.029     &    -4.009  &         0.000        &       -0.171    &       -0.058     \\\\\n",
       "\\textbf{ptg\\_share}           &      -0.0198  &        0.021     &    -0.921  &         0.357        &       -0.062    &        0.022     \\\\\n",
       "\\textbf{inc\\_5k\\_plus\\_share} &      -0.0537  &        0.026     &    -2.043  &         0.042        &       -0.105    &       -0.002     \\\\\n",
       "\\textbf{ed\\_prim\\_share}      &      -0.0144  &        0.023     &    -0.619  &         0.536        &       -0.060    &        0.031     \\\\\n",
       "\\textbf{land\\_own\\_share}     &       0.0301  &        0.021     &     1.413  &         0.158        &       -0.012    &        0.072     \\\\\n",
       "\\textbf{disab\\_share}         &       0.0375  &        0.022     &     1.705  &         0.089        &       -0.006    &        0.081     \\\\\n",
       "\\textbf{house\\_type3}         &       0.0304  &        0.021     &     1.425  &         0.155        &       -0.012    &        0.072     \\\\\n",
       "\\bottomrule\n",
       "\\end{tabular}\n",
       "\\begin{tabular}{lclc}\n",
       "\\textbf{Omnibus:}       & 89.801 & \\textbf{  Durbin-Watson:     } &    1.316  \\\\\n",
       "\\textbf{Prob(Omnibus):} &  0.000 & \\textbf{  Jarque-Bera (JB):  } &  297.831  \\\\\n",
       "\\textbf{Skew:}          & -0.903 & \\textbf{  Prob(JB):          } & 2.12e-65  \\\\\n",
       "\\textbf{Kurtosis:}      &  6.583 & \\textbf{  Cond. No.          } &     2.75  \\\\\n",
       "\\bottomrule\n",
       "\\end{tabular}\n",
       "%\\caption{OLS Regression Results}\n",
       "\\end{center}\n",
       "\n",
       "Notes: \\newline\n",
       " [1] Standard Errors assume that the covariance matrix of the errors is correctly specified."
      ],
      "text/plain": [
       "<class 'statsmodels.iolib.summary.Summary'>\n",
       "\"\"\"\n",
       "                              OLS Regression Results                              \n",
       "==================================================================================\n",
       "Dep. Variable:     other_crime_proportion   R-squared:                       0.131\n",
       "Model:                                OLS   Adj. R-squared:                  0.113\n",
       "Method:                     Least Squares   F-statistic:                     7.276\n",
       "Date:                    Wed, 20 Mar 2024   Prob (F-statistic):           6.96e-10\n",
       "Time:                            08:07:54   Log-Likelihood:                -240.18\n",
       "No. Observations:                     444   AIC:                             500.4\n",
       "Df Residuals:                         434   BIC:                             541.3\n",
       "Df Model:                               9                                         \n",
       "Covariance Type:                nonrobust                                         \n",
       "=====================================================================================\n",
       "                        coef    std err          t      P>|t|      [0.025      0.975]\n",
       "-------------------------------------------------------------------------------------\n",
       "const                -1.0424      0.020    -52.251      0.000      -1.082      -1.003\n",
       "tot_p                -0.1072      0.022     -4.888      0.000      -0.150      -0.064\n",
       "sc_share              0.0215      0.026      0.841      0.401      -0.029       0.072\n",
       "st_share             -0.1147      0.029     -4.009      0.000      -0.171      -0.058\n",
       "ptg_share            -0.0198      0.021     -0.921      0.357      -0.062       0.022\n",
       "inc_5k_plus_share    -0.0537      0.026     -2.043      0.042      -0.105      -0.002\n",
       "ed_prim_share        -0.0144      0.023     -0.619      0.536      -0.060       0.031\n",
       "land_own_share        0.0301      0.021      1.413      0.158      -0.012       0.072\n",
       "disab_share           0.0375      0.022      1.705      0.089      -0.006       0.081\n",
       "house_type3           0.0304      0.021      1.425      0.155      -0.012       0.072\n",
       "==============================================================================\n",
       "Omnibus:                       89.801   Durbin-Watson:                   1.316\n",
       "Prob(Omnibus):                  0.000   Jarque-Bera (JB):              297.831\n",
       "Skew:                          -0.903   Prob(JB):                     2.12e-65\n",
       "Kurtosis:                       6.583   Cond. No.                         2.75\n",
       "==============================================================================\n",
       "\n",
       "Notes:\n",
       "[1] Standard Errors assume that the covariance matrix of the errors is correctly specified.\n",
       "\"\"\""
      ]
     },
     "execution_count": 237,
     "metadata": {},
     "output_type": "execute_result"
    }
   ],
   "source": [
    "\n",
    "ols = sm.OLS(y, X)\n",
    "\n",
    "results = ols.fit()\n",
    "\n",
    "results.summary()"
   ]
  },
  {
   "cell_type": "code",
   "execution_count": 239,
   "id": "c7eabe03-0e39-4311-ae2b-fc8a770ca752",
   "metadata": {},
   "outputs": [
    {
     "data": {
      "text/plain": [
       "array([-0.1671462 , -0.26245748, -0.63869939, -0.30252944, -0.43217601])"
      ]
     },
     "execution_count": 239,
     "metadata": {},
     "output_type": "execute_result"
    }
   ],
   "source": [
    "ls = Lasso(alpha=0.025)\n",
    "\n",
    "cross_val_score(ls, X, y, scoring=\"r2\")"
   ]
  },
  {
   "cell_type": "code",
   "execution_count": null,
   "id": "66cef5e5-6703-4521-b619-89323d3236fc",
   "metadata": {},
   "outputs": [],
   "source": []
  },
  {
   "cell_type": "code",
   "execution_count": 214,
   "id": "4797a201-52ae-4a16-8230-80b0dc7cd123",
   "metadata": {},
   "outputs": [],
   "source": [
    "y_preds = cross_val_predict(ls, X, y)"
   ]
  },
  {
   "cell_type": "code",
   "execution_count": 215,
   "id": "fa6435ef-21bb-49be-aa57-7fedb83bb438",
   "metadata": {},
   "outputs": [
    {
     "data": {
      "text/plain": [
       "<Axes: ylabel='other_crime_proportion'>"
      ]
     },
     "execution_count": 215,
     "metadata": {},
     "output_type": "execute_result"
    },
    {
     "data": {
      "image/png": "[encoded data removed]",
      "text/plain": [
       "<Figure size 640x480 with 1 Axes>"
      ]
     },
     "metadata": {},
     "output_type": "display_data"
    }
   ],
   "source": [
    "sns.scatterplot(data=analysis_df, y=\"other_crime_proportion\", x = np.exp(y_preds))"
   ]
  },
  {
   "cell_type": "code",
   "execution_count": 216,
   "id": "d0977a86-279e-40bc-abd6-639fe6144082",
   "metadata": {},
   "outputs": [
    {
     "data": {
      "text/html": [
       "<div>\n",
       "<style scoped>\n",
       "    .dataframe tbody tr th:only-of-type {\n",
       "        vertical-align: middle;\n",
       "    }\n",
       "\n",
       "    .dataframe tbody tr th {\n",
       "        vertical-align: top;\n",
       "    }\n",
       "\n",
       "    .dataframe thead th {\n",
       "        text-align: right;\n",
       "    }\n",
       "</style>\n",
       "<table border=\"1\" class=\"dataframe\">\n",
       "  <thead>\n",
       "    <tr style=\"text-align: right;\">\n",
       "      <th></th>\n",
       "      <th>0</th>\n",
       "      <th>1</th>\n",
       "    </tr>\n",
       "  </thead>\n",
       "  <tbody>\n",
       "    <tr>\n",
       "      <th>1</th>\n",
       "      <td>tot_p</td>\n",
       "      <td>-0.017815</td>\n",
       "    </tr>\n",
       "    <tr>\n",
       "      <th>3</th>\n",
       "      <td>st_share</td>\n",
       "      <td>-0.013131</td>\n",
       "    </tr>\n",
       "    <tr>\n",
       "      <th>5</th>\n",
       "      <td>inc_5k_plus_share</td>\n",
       "      <td>-0.000002</td>\n",
       "    </tr>\n",
       "    <tr>\n",
       "      <th>0</th>\n",
       "      <td>const</td>\n",
       "      <td>0.000000</td>\n",
       "    </tr>\n",
       "    <tr>\n",
       "      <th>4</th>\n",
       "      <td>ptg_share</td>\n",
       "      <td>-0.000000</td>\n",
       "    </tr>\n",
       "    <tr>\n",
       "      <th>6</th>\n",
       "      <td>ed_prim_share</td>\n",
       "      <td>-0.000000</td>\n",
       "    </tr>\n",
       "    <tr>\n",
       "      <th>9</th>\n",
       "      <td>house_type3</td>\n",
       "      <td>0.000000</td>\n",
       "    </tr>\n",
       "    <tr>\n",
       "      <th>2</th>\n",
       "      <td>sc_share</td>\n",
       "      <td>0.002554</td>\n",
       "    </tr>\n",
       "    <tr>\n",
       "      <th>7</th>\n",
       "      <td>land_own_share</td>\n",
       "      <td>0.002759</td>\n",
       "    </tr>\n",
       "    <tr>\n",
       "      <th>8</th>\n",
       "      <td>disab_share</td>\n",
       "      <td>0.005966</td>\n",
       "    </tr>\n",
       "  </tbody>\n",
       "</table>\n",
       "</div>"
      ],
      "text/plain": [
       "                   0         1\n",
       "1              tot_p -0.017815\n",
       "3           st_share -0.013131\n",
       "5  inc_5k_plus_share -0.000002\n",
       "0              const  0.000000\n",
       "4          ptg_share -0.000000\n",
       "6      ed_prim_share -0.000000\n",
       "9        house_type3  0.000000\n",
       "2           sc_share  0.002554\n",
       "7     land_own_share  0.002759\n",
       "8        disab_share  0.005966"
      ]
     },
     "execution_count": 216,
     "metadata": {},
     "output_type": "execute_result"
    }
   ],
   "source": [
    "ls.fit(X, y)\n",
    "pd.DataFrame(zip(X.columns, ls.coef_)).sort_values(by=1)"
   ]
  },
  {
   "cell_type": "code",
   "execution_count": null,
   "id": "fdc3927a-40bd-4d22-ab54-2c6d228261fd",
   "metadata": {},
   "outputs": [],
   "source": []
  }
 ],
 "metadata": {
  "kernelspec": {
   "display_name": "Python 3 (ipykernel)",
   "language": "python",
   "name": "python3"
  },
  "language_info": {
   "codemirror_mode": {
    "name": "ipython",
    "version": 3
   },
   "file_extension": ".py",
   "mimetype": "text/x-python",
   "name": "python",
   "nbconvert_exporter": "python",
   "pygments_lexer": "ipython3",
   "version": "3.9.18"
  }
 },
 "nbformat": 4,
 "nbformat_minor": 5
}
