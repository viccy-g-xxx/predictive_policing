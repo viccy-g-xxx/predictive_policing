{
 "cells": [
  {
   "cell_type": "code",
   "execution_count": 1,
   "id": "educational-whole",
   "metadata": {},
   "outputs": [],
   "source": [
    "import requests\n",
    "from bs4 import BeautifulSoup\n"
   ]
  },
  {
   "cell_type": "code",
   "execution_count": 2,
   "id": "dressed-freeze",
   "metadata": {},
   "outputs": [],
   "source": [
    "from io import StringIO"
   ]
  },
  {
   "cell_type": "code",
   "execution_count": 305,
   "id": "nutritional-seeker",
   "metadata": {},
   "outputs": [],
   "source": [
    "import pandas as pd\n",
    "import time"
   ]
  },
  {
   "cell_type": "code",
   "execution_count": 18,
   "id": "a6281f8a-d918-409f-9d26-8f62f7a91387",
   "metadata": {},
   "outputs": [],
   "source": [
    "import sys,os\n",
    "sys.path.append(os.getcwd())\n"
   ]
  },
  {
   "cell_type": "code",
   "execution_count": null,
   "id": "85cf4e3c-dd39-4ad4-aa06-6e2375f3affc",
   "metadata": {},
   "outputs": [],
   "source": []
  },
  {
   "cell_type": "code",
   "execution_count": 63,
   "id": "signal-green",
   "metadata": {},
   "outputs": [],
   "source": [
    "police_url = \"https://haryanapolice.gov.in/ViewFIR/FIRStatusSearch?From=LFhlihlx/W49VSlBvdGc4w==\""
   ]
  },
  {
   "cell_type": "code",
   "execution_count": 64,
   "id": "broad-satellite",
   "metadata": {},
   "outputs": [],
   "source": [
    "pool = requests.get(police_url)"
   ]
  },
  {
   "cell_type": "code",
   "execution_count": null,
   "id": "ready-plant",
   "metadata": {},
   "outputs": [],
   "source": []
  },
  {
   "cell_type": "code",
   "execution_count": 33,
   "id": "rising-wednesday",
   "metadata": {},
   "outputs": [],
   "source": [
    "test_url = \"https://haryanapolice.gov.in/ViewFIR/FIRStatusSearch?From=LFhlihlx%2fW49VSlBvdGc4w%3d%3d\""
   ]
  },
  {
   "cell_type": "code",
   "execution_count": null,
   "id": "ece0056d-ffca-4f19-8198-f1adefe9d729",
   "metadata": {},
   "outputs": [],
   "source": []
  },
  {
   "cell_type": "code",
   "execution_count": 275,
   "id": "ef5c22f3-4d78-49d3-8f35-98888a4fcc78",
   "metadata": {},
   "outputs": [],
   "source": [
    "from selenium import webdriver\n",
    "from selenium.webdriver.chrome.service import Service\n",
    "from selenium.webdriver.common.by import By\n",
    "from selenium.webdriver.support.ui import Select\n",
    "from selenium.webdriver.support import expected_conditions as EC\n",
    "from selenium.webdriver.support.ui import WebDriverWait"
   ]
  },
  {
   "cell_type": "code",
   "execution_count": null,
   "id": "41a542dc-4347-4bef-aaf6-bb399ff8c221",
   "metadata": {},
   "outputs": [],
   "source": []
  },
  {
   "cell_type": "code",
   "execution_count": null,
   "id": "0a23975c-195e-4d16-a943-d490bd8cf7d7",
   "metadata": {},
   "outputs": [],
   "source": []
  },
  {
   "cell_type": "code",
   "execution_count": 378,
   "id": "f0ee7ca6-c53c-4f10-9f93-c357858bb55b",
   "metadata": {},
   "outputs": [],
   "source": [
    "service = Service(\"./chromedriver\")\n",
    "options = webdriver.ChromeOptions()\n",
    "options.add_argument(\"--log-level=3\")\n",
    "options.add_argument(\"--headless\")\n",
    "driver = webdriver.Chrome(service=service, options=options)"
   ]
  },
  {
   "cell_type": "code",
   "execution_count": 379,
   "id": "c8d315e4-3a95-4d49-aa7f-ef387bd41028",
   "metadata": {},
   "outputs": [],
   "source": [
    "def fetch_fir_reports(test_url, driver):\n",
    "    \n",
    "    driver.get(test_url)\n",
    "\n",
    "    Select(\n",
    "        driver.find_element(By.NAME, \"ctl00$ContentPlaceHolder1$ddFIRYear\")\n",
    "    ).select_by_value(\"2019\")\n",
    "\n",
    "    Select(\n",
    "        driver.find_element(By.NAME, \"ctl00$ContentPlaceHolder1$ddlDistrict\")\n",
    "    ).select_by_value(\"13225\")\n",
    "\n",
    "    Select(\n",
    "        driver.find_element(By.NAME, \"ctl00$ContentPlaceHolder1$ddlPoliceStation\")\n",
    "    ).select_by_value(\"13225008\")\n",
    "\n",
    "    driver.find_element(\n",
    "        By.XPATH,\n",
    "        \"//input[@name='ctl00$ContentPlaceHolder1$btnStatusSearch' and @value='Search']\",\n",
    "    ).click()\n",
    "\n",
    "    tag_present = EC.presence_of_element_located((By.ID, \"tblDisplayRecords\"))\n",
    "    wait = WebDriverWait(driver, 10)\n",
    "    wait.until(tag_present)\n",
    "\n",
    "    table_links = driver.find_elements(\n",
    "        By.XPATH, '//table[@id=\"tblDisplayRecords\"]/tbody/tr'\n",
    "    )\n",
    "\n",
    "    n = len(table_links)\n",
    "    fir_texts = []\n",
    "    first_page_data = []\n",
    "\n",
    "    for index in range(n):\n",
    "        print(index)\n",
    "        \n",
    "        fir = table_links[index]\n",
    "\n",
    "        fir.find_elements(\n",
    "            By.ID, f\"ContentPlaceHolder1_rptDisplayRecords_lnkFIRViewDetail_{index}\"\n",
    "        )[0].click()\n",
    "\n",
    "        driver.switch_to.window(driver.window_handles[1])\n",
    "\n",
    "        tag_present = EC.presence_of_element_located((By.NAME, \"RptView$ctl06$ctl00$Next$ctl00$ctl00\"))\n",
    "        wait = WebDriverWait(driver, 10)\n",
    "        wait.until(tag_present)\n",
    "\n",
    "        time.sleep(2)\n",
    "\n",
    "        first_page_content = driver.find_element(\n",
    "            By.XPATH, \"//td[contains(@id, 'oReportCell')]\"\n",
    "        ).text\n",
    "        first_page_data.append(first_page_content)\n",
    "        \n",
    "        time.sleep(5)\n",
    "        driver.find_element(\n",
    "            By.XPATH, \"//input[@name='RptView$ctl06$ctl00$Next$ctl00$ctl00']\"\n",
    "        ).click()\n",
    "\n",
    "        tag_present = EC.presence_of_element_located((By.XPATH, \"//span[contains(@class, '556')]\"))\n",
    "        wait = WebDriverWait(driver, 10)\n",
    "        wait.until(tag_present)\n",
    "        time.sleep(2)\n",
    "        \n",
    "        full_fir_text = driver.find_element(\n",
    "            By.XPATH, \"//span[contains(@class, '556')]\"\n",
    "        ).text\n",
    "        print(full_fir_text)\n",
    "\n",
    "        fir_texts.append(full_fir_text)\n",
    "\n",
    "        driver.switch_to.window(driver.window_handles[0])\n",
    "        # refresh table\n",
    "        table_links = driver.find_elements(\n",
    "            By.XPATH, '//table[@id=\"tblDisplayRecords\"]/tbody/tr'\n",
    "        )\n",
    "\n",
    "    return fir_texts, first_page_data\n"
   ]
  },
  {
   "cell_type": "code",
   "execution_count": 380,
   "id": "8fb8047a-a773-4793-b9ba-9aff86466491",
   "metadata": {},
   "outputs": [
    {
     "name": "stdout",
     "output_type": "stream",
     "text": [
      "0\n",
      "सेवा में, श्रीमान् SHO साहब थाना भुपानी जय हिन्द। आज मन ASI मय साथी C अरविन्द 3175 के बराये गस्त वा पडताल क्राईम महावतपुर से नचौली रोड पर मौजुद था कि मुखबर खास ने मुलाकी होकर बतलाया कि नचौली गांव के पुल के पास 2 व्यक्ति तास के पत्ते से जुआ खेल रहे है। जो मुखबर की बात को सच्ची मानकर मन ASI ने साथी C को समझाकर मुखबर को हमराह लेकर रवाना नचौली पुल का हुआ जहां पहुंच कर मुखबर ने दुर से ईशारा किया कि वे पुल के पास जुआ खेल रहे है मुखबर को वही फारिग करके मन ASI ने साथी C की ईमदाद से पुल के पास छिप कर देखा तो 2 व्यक्ति पुल के पास जुआ खेल रहे थे एक व्यक्ति ने कहा मेरी 50 रुपये की चाल दुसरे ने कहा मेरी 100 रुपये की चाल आई जो मन ASI ने जुआ खेलते हुए व्यक्तियो को काबू किया नाम पता पुछा तो पहले ने अपना नाम बिनेश S/O मामचन्द जाति गुज्जर गांव नचौली थाना भुपानी फरीदाबाद वा दुसरे ने अपना नाम सागर S/O संजय जाति बाल्मिकी गांव महावतपुर थाना भुपानी फरीदाबाद बतलाया जो बिनेश के बाये गोडे के नीचे 200/रुपये वा सागर के दांए गोडे के नीचे 150/रुपये मिले पीड में से लेकर गिनती करने पर 450 रुपये व 52 पत्ते ताश वा अखबारी कागज मिला जो बरामदा कुल रकम 800/रुपये व 52 पत्ते ताश एक अखबार के टुकडे को बतौर वजह सबुत कब्जा पुलिस में लिया गया जो फर्द पर आरोपीयान वा ग्वाहन के हस्ताक्षर करवाये गये। आरोपीयान उपरोक्त बिनेश वा सागर ने जगह सरेआम पर ताश के पत्ते  से जुआ खेल कर जुर्म जेर धारा 13.3.67 G. ACT का किया है लिहाजा तहरीर हजा बराये कायमी मुकदमा बदस्त CT अरविन्द 3175 के अरसाल थाना है बाद कायमी मुकदमा नम्बर पर्चा से सुचित करे। मौका पर अन्य I/O आगामी कार्यवाही हेतु भेजा जावे। मन ASI बराये तफ्तीश मौका पर मशरुफ हूँ। अज-नचौली पुल के पास SD:- RAM SINGH ASI थाना भुपानी जिला फरीदाबाद दिनांक. 03.01.2019 AT:- 04.50 PM अज थाना- हस्ब आमदा असल तहरीर उपरोक्त पर मुकदमा नं0 01 दिनांक 03.01.19 धारा 13-3-67 G.ACT PS BHUPANI FBD दर्ज रजिस्टर किया जाकर FIR की प्रतियां कम्पयुटर द्वारा तैयार करके सम्बन्धित अफसरान बाला की सेवा में भेजी जा रही है नकल मिशल पुलिस में असल तहरीर आरिन्दा सिपाही के निज्द I/O भेजी जा रही है । दुसरा I/O HC मौ0 शौकीन 579 को नियुक्त किया गया है। नोट:- यह मुकदमा SI सुरेश कुमार की हाजरी मे दर्ज किया जा रहा है व दुसरा i/o  HC मौ0 शौकीन 579 को नियुक्त किया गया है। SI सुरेश कुमार 1170 वा HC मौ0 शौकीन 579 की CCTNS  में  ID  ना होने के कारण हाजिरी वा I/O ASI राजकुमार 1834  को दर्शाया गया है ।\n",
      "1\n",
      "सेवा में, श्रीमान SHO साहब थान भुपानी (फरीदाबाद) श्री मान जी, निवेदन है कि मै सत्यदेव S/O स्व0 चन्दीराम निवासी गांव नचौली थाना भुपानी फरीदाबाद का रहने वाला हूँ कि दिनांक 04/01/2019 को समय करीब 10 बजे सुबह मेरी पत्नी कमलेश अपने पशुधन को अदल बदल व पानी पिलाने प्लाट पर गई हुई थी जो मै बाकी परिवार घर पर मौजुद था। घर पर किसी आदमी ने मेरे परिवार को बताया कि सुनील वकील वा दुष्यन्त, भिक्की का लडका वा बुध सिंह खुद वा उसका भाई सत्तु, रामदास, सदींप S/O भिक्की वा बाहरी करीब 50,60 लोगो के साथ विक्का S/O सत्ते जो इसी परिवार से है। बाहरी लोगो के साथ हमारी जमीन पर अवैध कब्जा करने की नियत से अपने साथ JCB वा क्रेन वा एक लोहे का खोखा (शराब का ठेका) लिखा हुआ है व अन्य साजो सामान के प्लाट खेडी रोड पर हथियार, लाठी, डन्डो, सरिया के साथ प्लाट पर पहुँच चुके है।और मेरी पत्नी प्लाट पर कमलेश अकेली थी उसके साथ बहस करते हुए मारपीट सुनील, दुष्यन्त आदि ने की है। जिस सुचना पर मै अपने प्लाट पर दौडा जो यह सुचना पाकर मेरा छोटा भाई सतवीर मेरा लडका कपिल भतीजे प्रवीन, अमित,मोहित एक के बाद एक मौका पर पहुँचे, जो पहले से प्लान बनाए बुध सिंह S/O शिवनारायण व उसके परिवार के अन्य साथियो के साथ अवैध हथियार से हवाई फायर करते हुए हमे जान से मारने की धमकी दी तथा बुध सिंह वा छोटे भाई भिक्की ने मुझे पकडा जो सुनील वकील ने मेरे बांए पैर मे टकना पर लाठी मारी जिससे मेरे पैर में FRACTURE (फ्रैक्चर) हो गया वा दुष्यन्त ने मेरे दाए पैर मे राड मारी फिर मुझे सत्तु ने अपने हाथ मे ली राड बाई तरफ पसल्ली मे मारी जिससे मुझे FRACTURE (फ्रैक्चर) है। उसके बाद सुनील वा दुष्यन्त ने हाथ पैर पकड कर क्रेन के ड्राईवर को आवाज लगाई कि क्रेन इसके उपर चढा दो फिर मै यह सुन कर बचाओ,बचाओ कि आवाज लगाई, फिर मेरा छोटा भाई व अन्य ने मुझे जारबानो (जान से मारने वालो) से छुडा ही रहे थे कि इसी दौरान सुनील वकील वा दुष्यन्त वा विक्का तथा अन्य ने मेरे भाई पर जान लेवा हमला किया तथा मेरे लडका कपिल वा भतीजे परवीन तथा मोहित व अमित को भी मारा पीटा और वो अपनी अपनी चोटो के बारे स्वंय बताऐंगे, जो ये सभी वारदात करने के बाद जान से मारने की धमकी दी जो इसी दौरान मौका पर पुलिस पहुँच चुकी थी और मुझे मेरे भतीजे ने बताया कि यहाँ पर कब्जे के लिए खोखा रख दिया कब्जे करने की नीयत से इसके बाद मुझे इलाज के लिए मैट्रो हस्पताल मे दाखिल कर दिया जो कल मेरी तबीयत ठीक ना होने के कारण मै आपको दरखास्त नही दे सका। जो आज दिनांक 05/01/19 को तबीयत ठीक होने के बाद आपको मैट्रो हस्पताल फरीदाबाद में आपको दरखास्त पेश कर दी है। उनके खिलाफ कानुनी कार्यवाही की जाए। SD:- प्रार्थी सत्यदेव S/O स्व0 चन्दीराम जाति गुर्जर निवासी- नचौली थाना भुपानी फरीदाबाद दिनांक 05/01/19 कार्यवाही पुलिस :- दिनांक 4-1-19 को सै0 16A पुलिस चौंकी फरीदाबाद से एक टेलिफोन थाना मे प्राप्त हुआ कि सत्यदेव S/O चन्दीराम वा सतबीर सिंह S/O चन्दीराम R/O गाँव नचौली फरीदाबाद लडाई झगडे मे मजरुब होकर दाखिल मैट्रो हस्पताल फरीदाबाद है। कार्यवाही के लिए I/O भेजे जो सुचना पाकर मन ASI मय CT शलैष कुमार 1360 के बराये कार्यवाही हेतु पुलिस चौंकी सै0 16 से रुक्का प्राप्त करके मैट्रो हस्पताल सै0 16 फरीदाबाद पहुँचा जहाँ से मजरुब सत्यदेव की MLR 474/ DT. 4-1-19 प्राप्त की जिसमे डाक्टर साहब कुल तीन चोट लगनी तहरीर की है जो तीनो चोट BLUNT व ADV. XRAY तहरीर की है वा मजरुब सतवीर सिंह की MLR NO. 4740 DT. 4-1-19 मे डाक्टर साहब ने कुल तीन चोट BLUNTADV XRAY तहरीर की है जो मजरुबान के ब्यान लेने बारे डाक्टर सहाब राय हासिल की गई जो डाक्टर साहब ने बतलाया कि मजरुब सतबीर इलाज के बाद हस्पताल से चला गया है तथा मजरुब सत्यदेव UNFIT FOR STATEMENT तहरीर किया जो हस्पताल मे इनके इलावा मौका का ग्वाह नही मिला जो आज दिनांक 5-1-19 को मन ASI मय CT मोहम्मद जाहिद 1140 मय CT सलेश कुमार न0 1360 के बराये लेने ब्यान मैट्रो हस्पताल पहुँचा हुँ जहां पर मजरुब सत्यदेव बारे डाक्टर साहब से राय हासिल की गई जो FIT FOR STATEMENT तहरीर फरमाने पर मजरुब सत्यदेव S/O चन्दीराम R/O गाँव नचौली थाना भुपानी फरीदाबाद ने एक लिखित दरखास्त मन ASI को पेश की जो दरखास्त के मजबुन व MLR से सरेदस्त जुर्म जेर धारा 147,148,149,323,285,506,447,511 IPC वा 25.54.59 A.ACT का होना पाया जाता है जो तहरीर हजा बराये कायमी मुकदमा बदस्त सिपाही मौहम्मद जाहिद न0 1140 के अरसाल थाना है नम्बर मुकदमा बाद कायमी नम्बर पर्चा से सुचित करे मन ASI मय साथी मुलाजमान के रवाना घटना स्थल का होता हूँ। अज:- मैट्रो हस्पताल सै0 16 SD:- RAMBABU ASI थाना भुपानी फरीदाबाद DT. 5-1-19 AT 03.00 PM अज थाना – हस्ब आमद तहरीर उपरोक्त पर मुकदमा न0 2 दिनांक 05.01.19 धारा 147,148,149,323,285,506,447,511 IPC वा 25.54.59 A.ACT थाना भुपानी फरीदाबाद दर्ज रजिस्टर किया जाकर FIR की प्रतियां नियमानुसार कम्पयुटर के द्वारा तैयार करके सम्बन्धित अफसरान बालान की सेवा मे बजरीया डाक भेजी जा रही है । नकल मिशल मय असल तहरीर आईन्दा सि0 मोहम्मद जाहिद 1140 के बर मौका भेजी जा रही है। नोट:- यह मुकदमा ASI रामसिंह 1060 की हाजरी मे दर्ज किया गया है। वा मुकदम हजा का I/O ASI रामबाबू 1694 को नियुक्त किया गया है। परन्तु ASI रामबाबू वा ASI रामसिंह की CCTNS ID न होने के कारण हाजिरी वा I/O ASI राजकुमार को दर्शाया गया है। \n",
      "2\n",
      "सेवा मे, श्रीमान SHO साहब थाना भुपानी ‘जय हिंद’ आज मन HC मय सि0 सोनु 2785 व मय गाडी सरकारी HR-51 BM – 8073 टाटा सुमो जिसका चालक CT. जगदीप 1205 है के बराये गश्त व पडताल क्राईम खेडी पुल-नचौली रोड भुपानी मोड पर मौजुद हुँ कि एक नौजवान लडका गांव भुपानी की तरफ से पैदल आता हुआ दिखाई दिया जो सामने खडी पुलिस पार्टी को देखकर एक दम वापिस मुडकर तेज कदमो से चलने लगा। मन HC ने भागकर साथी CT की मदद से शक की बिनाह पर शख्स मजकुरा को काबु करके नाम पता पुछा तो जिसने अपना नाम रोहित S/O स्व0 जितेन्द्र भारती R/O रामनगर कालोनी भुपानी मोड थाना भुपानी जिला फरीदाबाद बा उम्र 22 वर्ष बतलाया। तलाशी लेने पर जिसकी पहनी हुई पैंट जींस की दाहिनी डब से एक देशी पिस्तौल 32 बोर बरामद हुआ। चैक करने पर जो खाली मिला। शख्स मजकुरा अपने पास देशी पिस्तौल रखने बारे मांगने पर कोई लाईंसेंस पेश नही कर सका। देशी पिस्तौल का अलग के खाका तैयार करके लाईसेंस पेश नही कर सका। देशी पिस्तौल का अलग से खाका तैयार करके पैमाइश करने पर स्लाईड बैरल ल0 14 C.M, बट ल0 8 CM व कुल लम्बाई 18 C.M हुई। बरामदा शुदा देशी पिस्तौल का अलग से पलंदा तैयार करके पिस्तौल को पलंदा में डालकर SS की एक मोहर से सर्वमोहर करके फर्द द्वारा सबुत के तौर पर क्बजा पुलिस में लिया गया। मोहर बाद प्रयोग सि0 सोनु के हवाले की गई। रोहित उपरोक्त का यह उपरोक्त कार्य अपराध जैर धारा 25-54-59 A. ACT की श्रेणी में आता है। इस कार्यवाही के दौरान मौका पर पब्लिक के काफी आदमी इकट्ठे हुए है जिन्हे मौका का ग्वाह बनने बारे कहा गया परंतु सभी ने अपनी-अपनी मजबुरिया जाहिर की तथा मौका से एक-एक करके अपना नाम-पता बिना बताए खिसक गए। तहरीर लिखकर मुकदमा दर्ज रजिस्टर कराने के लिए सि0 सोनु 2785 के द्वारा थाना भेजी जा रही है। बाद मुकदमा दर्ज रजिस्टर करके मुकदमा न0 से सुचित करें तथा मुकदमा की आगामी अनुसंधान के लिए मौका पर अन्य अनुसंधान अधिकारी भेजा जावे। मन HC मय गाडी सरकारी, आरोपी के माल मुकदमा सहित मौका पर मौजुद हुँ। अज:- भुपानी मोड फरीदाबाद SD:- KULDEEP SINGH HC 1765 C.B. SEC-85 FARIDABAD DT. 5/1/19 AT. MOB: 9467754822 अज थाना- हस्ब आमदा तहरीर उपरोक्त थाना पर प्राप्त होने पर मुकदमा न0 3 दिनांक 05.01.19 धारा 25.54.59 A.ACT  थाना भुपानी फरीदाबाद दर्ज रजिस्टर किया जाकर FIR की प्रतियां नियमानुसार कम्पयुटर के द्वारा तैयार करके सम्बन्धित अफसरान बालान की सेवा मे बजरीया डाक भेजी जा रही है । नकल मिशल पुलिस मय असल तहरीर आगामी कार्यावाही हेतु आरिन्दा सि0 के I/O बर मौका भेजी जा रही है । नोट:-  यह मुकदमा ASI रामसिंह 1060 की हाजरी मे दर्ज किया गया है। वा मुकदमा हजा का दुसरा I/O SI राजेन्द्र CB SEC. 85 है ,  SI राजेन्द्र वा ASI रामसिंह की CCTNS ID न होने के कारण I/O वा हाजरी  ASI राजकुमार को ही दिखाया गया है ।\n",
      "3\n",
      "एक दरखास्त नम्बरी DCP Central FBD Dairy No. 851-P DT. 05/12/18, ACP Sarai Faridabad Dairy No. 370-ACP DT. 26.12.18 थाना मे मुकदमा दर्ज होने के लिए प्राप्त हुई जो जैल है- सेवा मे श्रीमान डी.सी.पी. महोदय, फरीदाबाद, हरियाणा विषय- नितेश कुमार पुत्र श्री विनोद कुमार, निवासी पी-7 फ्लैट न0- 7, फ्लैट न0- 5-डी, पर्ल फ्लोर्स, एस.आर.एस. रायल हिल्स सिटी सै0- 87, थाना भौपानी, फरीदाबाद हरियाणा एवं अंकित चार्ल्स पुत्र श्री राजेन्द्र चार्ल्स निवासी म.न0 1814, सैक्टर 28 थाना ओल्ड फरीदाबाद, फरीदाबाद, हरियाणा द्वारा प्रार्थी के साथ धोखाधडी करने व फर्जी कागजात बनाकर 6 लाख रूपये हडप लेने के सन्दर्भ मे पुनः शिकायत पत्र। महोदय सविनय निवेदन यह है कि प्रार्थी उमेश कुमार कनोजिया पुत्र श्री राम भजन कनोजिया निवासी 7/376, खिचडीपुर, दिल्ली- 110091 ने आपको दिनांक 03.08.2018 स्वयं उपस्थित होकर शिकायत पत्र दिया था जिस पर आपको द्वारा संज्ञान लेते हुए ए.सी.पी. सराय को आदेशित किया गया कि “ To enquire into the matter and report whether any case is made out or not” आदेश अनुसार मे स्वंय ए.सी.पी. सराय के समक्ष उपस्थित होकर प्रार्थना पत्र पर संज्ञान लेने हेतू गुजारिश की जिस पर ए.सी.पी. सराय ने अभियुक्तगणो को नोटिस तामिल कराकर उक्त शिकायत पर तिथि निर्धारित कर कार्यवाही की तथी अभियुक्तगणो को उक्त समय पर उनके समक्ष उपस्थित होने के लिए आदेशित भी किया जिस पर अभियुक्तगण व प्रार्थी उक्त तिथियो पर हाजिर हुए। अभियुक्तगणो द्वारा प्रार्थी को ए.सी.पी. सराय महोदय के बाहर निकलने पर जान से मारने व उक्त शिकायत वापिस लेने के लिए धमकी दी तुरन्त प्रार्थी ने उक्त धमकी दिये जाने पर ए.सी.पी. सराय साहब को भी अवगत कराया जिस पर ए.सी.पी. सराय साहब ने उक्त अभियुक्तगणो को सख्त चेतावनी दी तथा अन्य निर्धारित तिथि पर हाजिर होने के लिए आदेशुत किया। उक्त तिथि पर अभियुक्तगणो ने अपनी गलती स्वीकार की तथा प्रार्थी से धोखाधडी कर सारा लिया गया पैसा वापिस करने की मंशा प्रार्थी से ए.सी.पी. महोदय के समक्ष समझौता करने का दबाव बनाकर प्रार्थी को 000004, 000005, 000006, 000007, 000008 व चैक न0 000003 बकाया 4,65,000/- रूपये के चैक दे दिये जिनको कि प्रार्थी प्रत्येक माह अपने खाते मे उक्त चैक लगातार पैसा वसूल कर ले। समझौते अनुसार प्रार्थी ने चैक संख्या 000007 रूपये 25,000/- निर्धारित दिनांक 25.09.2018 के बाद दिनांक 28.10.2018 को अपने बैंक मे क्लीरैन्स के लिए लगाया तो पाया उक्त चैक पर्याप्त फंड ना होने की वजह से बाउंस हो गया। प्रार्थी द्वारा यह तथ्य जब ए.सी.पी. सराय के संज्ञान मे लाया गया तब ए.सी.पी. साहब द्वारा अभियुक्तो को चैक बाउंस होने से अवगत व समझौते की शर्तो का उल्लंघन होने के कारण कानूनी कार्यवाही की बात कही गई तो उपरोक्त लोगो ने एक और मौका देने व प्रार्थी के अकाउंट मे पैसा डालने की बात कही। तो अभियुक्तगणो ने प्रार्थी के अकाउंट मे कुल रकम मे से 20,000/- रूपये मात्र जमा किया तथा शेष राशि बाद मे डालने के लिए कहा। समझौते के अनुसार प्रार्थी ने अगले माह का चैक संख्या 000008 अपने अकाउंट मे भुगतान के लिये लगाया तो फिर से फंड अपर्याप्त होने के कारण बाउंस हो गया। प्रार्थी द्वारा जब इस बावत अभियुक्तगणो को सुचित किया गया तो अभियुक्तगणो ने अब कोई पैसा ना देने के लिये कह दिया और कहा जो लेना है कोर्ट से लो आईन्दा फोन मत करना ना ही फरीदाबाद आना नही तो दिल्ली वापिस नही जा पाओगे की धमकी दे दी। जब इस बावत प्रार्थी ने ए.सी.पी. सराय साहब को बताया तो ए.सी.पी. साहब ने चैक बाउंस का केस कोर्ट मे डालने को कहकर मुझे थाने से चले जाने को कह दिया। अतः मेरा आपसे निवेदन है कि चूंकि अपराध घटित हुआ है और प्रार्थी के साथ धोखाधडी व फर्जी कागजात बनाकर पैसा हडप लिया है जिस बावत ए.सी.पी. सराय के समक्ष उपरोक्त लोगो के द्वारा समझौता किया गया व प्रार्थी को चाक दिये गये इसकी एवज मे दोषियो के खिलाफ एफ.आई.आर. दर्ज कर कडी कानूनी कार्यवाही की जाये जिससे प्रार्थी को न्याय मिल सके। आपकी अति कृपा होगी। दिनांक- 22/11/18 SD- Umesh उमेश कुमार कनोजिया पुत्र श्री राम भजन कनोजिया निवासी 7/376, खिचडीपुर, दिल्ली- 110091 मो0- 9990077202 अज थाना- दरखास्त उपरोक्त थाना पर प्राप्त होने पर मुकदमा दर्ज रजिस्टर किया जाकर FIR की प्रतियां नियमानुसार कम्पयुटर के द्वारा तैयार करके सम्बन्धित अफसरान बालान की सेवा मे बजरीया डाक भेजी गई। नकल मिशल पुलिस मय असल दरखास्त आगामी कार्यावाही हेतु ASI विनोद कुमार के हवाले की जाऐगी। नोटः- मुकदमा का I/O ASI विनोद कुमार है जो ASI विनोद कुमार की CCTNS मे ID न होने के कारण I/O ASI किमतीलाल को दिखाया गया है। \n",
      "4\n",
      "एक दरखास्त नम्बरी DCP Central FBD Dairy No. 179-P DT. 21.03.18 थाना मे मुकदमा दर्ज होने के लिए प्राप्त हुई जो जैल है- To, Deputy Commissioner of Police. Sector-12, Faridabad ,Haryana Respected sir, Sub- Registration of FIR against promoters of group infrastructure for exhorting Rs. 7,00,000 (seven lac) from us by way of Cheating and fraud. I, Anil Kumar Mittal S/O Late Shankar Lal Gupta and my wife Smt. Shail Mittal  Resident of House N0.800 sector 09, Fridabad, Haryana had provisionally registered flats in residential group housing project- PAL Garden at Sec-89 of Greater Faridabad. This project was being developed by M/S Pal Infrastructure and developers Pvt. Ltd. 104, Pal Towers, MG Road, Sikanderpur Gurugram-122002 through its directors Harpal Singh Yadav, Manav Chandra and Rajesh Kumar.  Each flat was measuring 1375 sq.ft and it was registered @ Rupees 1600.00 per sq.ft each of us paid Rs. 3,50,000 and does a total amount of Rs. 7,00,000.00 (Seven lac) was paid towards provisional registration vide receipt no. AB903 dated 10.01.2007 and receipt no. AB 640 dated 03.01.2007. The breakup of amount paid by cheque and cash is given in the receipts (attached). After the initial payment the company informed me cide their letter dated 22.05.2007 that they have received license for the project from DTCP, Haryana Chandigarh in the month of January 2007 and also they had clear possession of site at Sector 89. Further, the demarcation of land was said to have been done and zoning of the project obtained from DCTP, Haryana and many other assurances/projections. They also demanded a further payment of Rs. 3,10,000 from me as balance of registration money (copy attached). However, no communication was received by my wife after initial payment. But, before making any further payment and doubting about the fate of said project we tried to be assured ourselves about the above claim and projections of the company regarding possession of land and grant of licences etc. And for this purpose we visited many times to their office at Gurugram. However, the company could not show us any such documents. Later on it came to our knowledge that company had neither clear possession of land nor any licence from DTCP Haryana. Sensing a fraud that the company has cheated us to make payment of Rs.7,OO,OOO (seven lac) in the name of flat we did not make any further payment and instead asked the company to refund the amount with interest and cancelled the bookings. But the company, inspite of our many verbal and written request, has not refunded any amount till date which they exhorted from us in the name of a flat by malafide and false versions and representations. The company induced us to make payment of Rs. 7,OO,OOO and as such it has committed the offence of cheating and criminal breach of trust. The promoters have not purchased any land nor permission/Iicence to develop the land by concerned authorities at the time of registration although they collected money from us and thus made a fraud. The company was approached many a times to refund the amount which they had illegally and fraudently collected from us but they have not refunded any amount till date. Even the registered letters sent to the company have returned back as undelivered. We have approached the company many times since 2007 for refund of our money along with interest but the company has failed to make us any payment. It is therefore, requested that report against the company and its promoters for illegally and fraudently collecting the money in the name of a project for which they neither have land nor licences and not refunding the amount so exhorted even after more than eleven years may be registered and necessary suitable action may be initiated against the culprits. Thanking you, Yours faithfully, SD- A.K. MITIAL Complainant (9650994338) अज थाना- दरखास्त उपरोक्त पर मुकदमा दर्ज रजिस्टर किया जाकर FIR की प्रतियां नियमानुसार कम्पयुटर के द्वारा तैयार करके सम्बन्धित अफसरान बालान की सेवा मे बजरीया डाक भेजी गई। नकल मिशल पुलिस मय असल दरखास्त आगामी कार्यावाही हेतु ASI विनोद कुमार के हवाले की गई है। नोटः- मुकदमा का I/O ASI विनोद कुमार है जो ASI विनोद कुमार की CCTNS मे ID न होने के कारण I/O ASI किमतीलाल को दिखाया गया है। \n",
      "5\n",
      "सेवा मे श्रीमान जी S.H.O साहब थाना भूपानी फरीदाबाद श्रीमान जी, निवेदन यह है कि मै मनोज S/O राजेन्द्र चौहान R/O खेडीपुल भारत कालोनी गली न0 5 फरीदाबाद का रहने वाला हूँ मै आटो HR 38 Y 4160 इन्जन न0 AZYWJE91057 चैचिस न0 MD2A27AY1JWE50764 किराये पर चलाता हूँ जो आज दिनांक 12/1/19 समय करीब 8.00 बजे पल्ला मोड से दो नोजवान लडको भूपानी ठेका मास्टर रोड नियर शराब ठेका के पास सवारी छोडने आ रहा था। जब मै अमन विला मास्टर रोड भूपानी कालोनी के पास पहुंचा तो उन दो नोजवान लोग ने पिसाब करने के लिए आटो को रूकवा कर मुझे आटो से नीचे उतार दिया और वह लडके नाम पता नामालूम ऐटो लेकर छीनकर फरार हो गये। जो मैने अपने तौर पर भूपानी कलोनी के आस-पास काफी तलाश किया जो मुझे मेरा आटो नही मिला। जो उनके खिलाफ कानूनी कार्यवाही की जाए। SD- MANOJ प्राथी- मनोज S/O राजेन्द्र चौहान R/O खेडीपुल भारत कालोनी गली न0 5 फरीदाबाद 9205533769 अज थाना- दरखास्त उपरोक्त पर मुकदमा दर्ज रजिस्टर किया जाकर FIR की प्रतियां नियमानुसार कम्पयुटर के द्वारा तैयार करके सम्बन्धित अफसरान बालान की सेवा मे बजरीया डाक भेजी गई। नकल मिशल पुलिस मय असल दरखास्त आगामी कार्यावाही हेतु HC संजय के हवाले की गई है। नोटः- मुकदमा का I/O HC संजय है जो HC संजय की CCTNS मे ID न होने के कारण I/O HC बहादुर सिंह को दिखाया गया है। \n",
      "6\n",
      "सेवा मे श्रीमान SHO साहब थाना भूपानी फरीदाबाद श्रीमान जी सविनय निवेदन यह है कि मै सुमेर सिंह S/O श्री बृजपाल गांव जसाना का रहने वाला हूँ दिनांक 5.1.19 को अपने किसी निजी काम से फरीदाबाद जा रहा था करीब 9.30 PM भूपानी मोड के पास सडक पर पत्थर से मोटरसाईकिल सीलिप हो गई हो गई। मेरे गिरने की वजह से मेरे हाथ मे चोट आ गई। जिसके इलाज के लिए मे आटो मे बैठकर फरीदाबाद चला गया। मेरी मोटरसाईकिल BAJAJ PLATINA रंग काला BIKE NO. HR 87 B 7072 जिसका इन्जन न0 PFYRJB28778 और चैचिस न0 MD2A76AY9JRB58984 है। जिसका मोडल 2018 है इसे मे वही पर छोड कर चला गया। फिर मे अपना इलाज करा के वापस अपनी बाईक के पास आया तो वहा मुझे मेरी बाईक नही मिली। काफी ढुंडने के बाद जब बाईक नही मिली तो मुझे शक है कि मेरी बाईक किसी अज्ञात व्यक्ति ने चोरी कर ली तथा उचित कारवाई की जाए। धन्यवाद दिनांक 8/1/19 आपका प्रार्थी- सुमेर सिंह S/O बिरीजपाल गांव जसाना M.NO. 9650180927 अज थाना- दरखास्त उपरोक्त पर मुकदमा दर्ज रजिस्टर किया जाकर FIR की प्रतियां नियमानुसार कम्पयुटर के द्वारा तैयार करके सम्बन्धित अफसरान बालान की सेवा मे बजरीया डाक भेजी गई। नकल मिशल पुलिस मय असल दरखास्त आगामी कार्यावाही हेतु HC बहादुर सिंह के हवाले की गई है। \n",
      "7\n",
      "सेवा मे श्रीमान SHO साहब थाना भूपानी फरीदाबाद श्रीमान जी सविनय निवेदन यह है कि मै शशीबाला W/O श्री य़शपाल शर्मा B-72 सांई पार्क अपार्टमैन्ट सै0 87 फरीदाबाद का रहने वाली हूँ। मेरी लडकी अशिंता शर्मा विधा सागर इंटरनेशनल स्कूल गांव मंझावली मे स्कूल टीचर है। जिसकी आयु लगभग 23 वर्ष है जो दिनांक 11.01.2019 को घर से स्कूल मे नौकरी के लिए गई थी। जो शाम को घर पर वापिस नही आई। जिस बारे मैने स्कूल मे सम्पर्क किया तो स्कूल वालो ने बतलाया कि अशिंता शर्मा आज स्कूल मे नही आई है। जो मेरी लडकी अशिंता शर्मा अपनी मर्जी से कही पर चली गई है। जो जाते समय लाल रंग का सूट व काले रंग की सलवार व पैरो मे चप्पल पहनकर गई थी। जिसका हुलिया रंग गौरा, मजबूत शरीर, नाक पर कट का निशान बा उम्र 23 साल है। जो अब तक मै अपने तौर पर अपनी लडका की तलाश करती रही। अब मुझे शक है कि मेरी लडकी को किसी ने बन्धक बना लिया है बराये रिपोर्ट आपके पास आई हूँ उचित कार्यवाही की जाऐ। मेरी लडकी का मो0न0 9012850877 IMEI NO. 869066043042770. SD- Shashi Bala प्राथीया नाम शशीबाला W/O श्री य़शपाल शर्मा मो0न0 8218382376, 9599690903 अज थाना- दरखास्त उपरोक्त पर मुकदमा दर्ज रजिस्टर किया जाकर FIR की प्रतियां नियमानुसार कम्पयुटर के द्वारा तैयार करके सम्बन्धित अफसरान बालान की सेवा मे बजरीया डाक भेजी गई। नकल मिशल पुलिस मय असल दरखास्त आगामी कार्यावाही हेतु SI राजपाल के हवाले की गई है। नोटः- मुकदमा का I/O SI राजपाल है जो SI राजपाल की CCTNS मे ID न होने के कारण I/O ASI किमतीलाल को दिखाया गया है। \n",
      "8\n",
      "सेवा मे श्रीमान SHO साहब थाना भूपानी फरीदाबाद श्रीमान जी निवेदन यह है कि मै सुधीर कुमार पुत्र मनवीर सिंह निवासी चोला बुलन्दशहर U.P का रहने वाला हूँ। और विद्या संस्कार स्कूल मे असेटेन्ट मैनेजर पद पर हूँ। और हाल विद्या संस्कार के क्वाटर मे रहता हूँ मेरी पत्नी सुस्मीता पुत्री नवल सिंह जिसकी उम्र 23 साल जिसने क्रिम कलर का कोट और नीचे चैकदार ट्राउजर पैरो मे जुती चोकलेटी कलर की पहन रखी है। जो आज सुबह मुझे बिना बताऐ अपनी मर्जी से कही चली गई है लेकिन मुझे शक है कि मेरी पत्नी को किसी नाम पता नामालूम व्यक्ति ने बंधक बना कर रखा हुआ है मेरी पत्नी की तलाश कराई जाऐ और मेरी रिपोर्ट दर्ज की जाऐ। SD- Sudhir 9910395660,9911691130 अज थाना- दरखास्त उपरोक्त पर मुकदमा दर्ज रजिस्टर किया जाकर FIR की प्रतियां नियमानुसार कम्पयुटर के द्वारा तैयार करके सम्बन्धित अफसरान बालान की सेवा मे बजरीया डाक भेजी गई। नकल मिशल पुलिस मय असल दरखास्त आगामी कार्यावाही हेतु HC प्रमोद कुमार के हवाले की गई है। \n",
      "9\n",
      "CNR No. HRFB03-015479-2016 NDPS-16-2014. State Vs. Rinku Present: Ms. Deepali, Ld. APP for State. Accused Rinku already absent. Today, the case is fixed for presence of the accused Rinku after affixation of proclamation under Section 82/83 of Cr.P.C. Mandatory period of 30 days has been expired. Case -called several times since morning. Neither the accused Rinku nor anyone appeared on his behalf. It is already 2:00 PM. Waited sufficiently and further wait is not justified. Hence, the accused Rinku is declared proclaimed person. Necessary intimation in this regard be sent to the concerned police station forthwi tho SHO is directed to place the copy of FIR on the case file on 16.01.2019. Notice to I.O be sent for the date fixed for filing the copy of list of property of accused Rinku for attachment under Section. 83 Cr.P.C. sd- (Garima Yadav) JMIC, Faridabad, UID No. HR0413 अज थाना- दरखास्त उपरोक्त पर मुकदमा दर्ज रजिस्टर किया जाकर FIR की प्रतियां नियमानुसार कम्पयुटर के द्वारा तैयार करके सम्बन्धित अफसरान बालान की सेवा मे बजरीया डाक भेजी गई। नकल मिशल पुलिस मय असल दरखास्त आगामी कार्यावाही हेतु HC सुनील कुमार के हवाले की गई है।  \n"
     ]
    }
   ],
   "source": [
    "fir_texts, first_page_data = fetch_fir_reports(test_url, driver)"
   ]
  },
  {
   "cell_type": "code",
   "execution_count": 385,
   "id": "40fc2199-9fd6-4e65-9897-58b534181b51",
   "metadata": {},
   "outputs": [
    {
     "data": {
      "text/plain": [
       "['सेवा मे, श्रीमान SHO साहब थाना भुपानी ‘जय हिंद’ आज मन HC मय सि0 सोनु 2785 व मय गाडी सरकारी HR-51 BM – 8073 टाटा सुमो जिसका चालक CT. जगदीप 1205 है के बराये गश्त व पडताल क्राईम खेडी पुल-नचौली रोड भुपानी मोड पर मौजुद हुँ कि एक नौजवान लडका गांव भुपानी की तरफ से पैदल आता हुआ दिखाई दिया जो सामने खडी पुलिस पार्टी को देखकर एक दम वापिस मुडकर तेज कदमो से चलने लगा। मन HC ने भागकर साथी CT की मदद से शक की बिनाह पर शख्स मजकुरा को काबु करके नाम पता पुछा तो जिसने अपना नाम रोहित S/O स्व0 जितेन्द्र भारती R/O रामनगर कालोनी भुपानी मोड थाना भुपानी जिला फरीदाबाद बा उम्र 22 वर्ष बतलाया। तलाशी लेने पर जिसकी पहनी हुई पैंट जींस की दाहिनी डब से एक देशी पिस्तौल 32 बोर बरामद हुआ। चैक करने पर जो खाली मिला। शख्स मजकुरा अपने पास देशी पिस्तौल रखने बारे मांगने पर कोई लाईंसेंस पेश नही कर सका। देशी पिस्तौल का अलग के खाका तैयार करके लाईसेंस पेश नही कर सका। देशी पिस्तौल का अलग से खाका तैयार करके पैमाइश करने पर स्लाईड बैरल ल0 14 C.M, बट ल0 8 CM व कुल लम्बाई 18 C.M हुई। बरामदा शुदा देशी पिस्तौल का अलग से पलंदा तैयार करके पिस्तौल को पलंदा में डालकर SS की एक मोहर से सर्वमोहर करके फर्द द्वारा सबुत के तौर पर क्बजा पुलिस में लिया गया। मोहर बाद प्रयोग सि0 सोनु के हवाले की गई। रोहित उपरोक्त का यह उपरोक्त कार्य अपराध जैर धारा 25-54-59 A. ACT की श्रेणी में आता है। इस कार्यवाही के दौरान मौका पर पब्लिक के काफी आदमी इकट्ठे हुए है जिन्हे मौका का ग्वाह बनने बारे कहा गया परंतु सभी ने अपनी-अपनी मजबुरिया जाहिर की तथा मौका से एक-एक करके अपना नाम-पता बिना बताए खिसक गए। तहरीर लिखकर मुकदमा दर्ज रजिस्टर कराने के लिए सि0 सोनु 2785 के द्वारा थाना भेजी जा रही है। बाद मुकदमा दर्ज रजिस्टर करके मुकदमा न0 से सुचित करें तथा मुकदमा की आगामी अनुसंधान के लिए मौका पर अन्य अनुसंधान अधिकारी भेजा जावे। मन HC मय गाडी सरकारी, आरोपी के माल मुकदमा सहित मौका पर मौजुद हुँ। अज:- भुपानी मोड फरीदाबाद SD:- KULDEEP SINGH HC 1765 C.B. SEC-85 FARIDABAD DT. 5/1/19 AT. MOB: 9467754822 अज थाना- हस्ब आमदा तहरीर उपरोक्त थाना पर प्राप्त होने पर मुकदमा न0 3 दिनांक 05.01.19 धारा 25.54.59 A.ACT  थाना भुपानी फरीदाबाद दर्ज रजिस्टर किया जाकर FIR की प्रतियां नियमानुसार कम्पयुटर के द्वारा तैयार करके सम्बन्धित अफसरान बालान की सेवा मे बजरीया डाक भेजी जा रही है । नकल मिशल पुलिस मय असल तहरीर आगामी कार्यावाही हेतु आरिन्दा सि0 के I/O बर मौका भेजी जा रही है । नोट:-  यह मुकदमा ASI रामसिंह 1060 की हाजरी मे दर्ज किया गया है। वा मुकदमा हजा का दुसरा I/O SI राजेन्द्र CB SEC. 85 है ,  SI राजेन्द्र वा ASI रामसिंह की CCTNS ID न होने के कारण I/O वा हाजरी  ASI राजकुमार को ही दिखाया गया है ।']"
      ]
     },
     "execution_count": 385,
     "metadata": {},
     "output_type": "execute_result"
    }
   ],
   "source": [
    "[x for x in fir_texts if \"25-\" in x]"
   ]
  },
  {
   "cell_type": "code",
   "execution_count": 394,
   "id": "45568ed4-7896-4326-b5c2-2f4d62e673cd",
   "metadata": {},
   "outputs": [
    {
     "data": {
      "text/plain": [
       "'सेवा मे, श्रीमान SHO साहब थाना भुपानी ‘जय हिंद’ आज मन HC मय सि0 सोनु 2785 व मय गाडी सरकारी HR-51 BM – 8073 टाटा सुमो जिसका चालक CT. जगदीप 1205 है के बराये गश्त व पडताल क्राईम खेडी पुल-नचौली रोड भुपानी मोड पर मौजुद हुँ कि एक नौजवान लडका गांव भुपानी की तरफ से पैदल आता हुआ दिखाई दिया जो सामने खडी पुलिस पार्टी को देखकर एक दम वापिस मुडकर तेज कदमो से चलने लगा। मन HC ने भागकर साथी CT की मदद से शक की बिनाह पर शख्स मजकुरा को काबु करके नाम पता पुछा तो जिसने अपना नाम रोहित S/O स्व0 जितेन्द्र भारती R/O रामनगर कालोनी भुपानी मोड थाना भुपानी जिला फरीदाबाद बा उम्र 22 वर्ष बतलाया। तलाशी लेने पर जिसकी पहनी हुई पैंट जींस की दाहिनी डब से एक देशी पिस्तौल 32 बोर बरामद हुआ। चैक करने पर जो खाली मिला। शख्स मजकुरा अपने पास देशी पिस्तौल रखने बारे मांगने पर कोई लाईंसेंस पेश नही कर सका। देशी पिस्तौल का अलग के खाका तैयार करके लाईसेंस पेश नही कर सका। देशी पिस्तौल का अलग से खाका तैयार करके पैमाइश करने पर स्लाईड बैरल ल0 14 C.M, बट ल0 8 CM व कुल लम्बाई 18 C.M हुई। बरामदा शुदा देशी पिस्तौल का अलग से पलंदा तैयार करके पिस्तौल को पलंदा में डालकर SS की एक मोहर से सर्वमोहर करके फर्द द्वारा सबुत के तौर पर क्बजा पुलिस में लिया गया। मोहर बाद प्रयोग सि0 सोनु के हवाले की गई। रोहित उपरोक्त का यह उपरोक्त कार्य अपराध जैर धारा 25-54-59 A. ACT की श्रेणी में आता है। इस कार्यवाही के दौरान मौका पर पब्लिक के काफी आदमी इकट्ठे हुए है जिन्हे मौका का ग्वाह बनने बारे कहा गया परंतु सभी ने अपनी-अपनी मजबुरिया जाहिर की तथा मौका से एक-एक करके अपना नाम-पता बिना बताए खिसक गए। तहरीर लिखकर मुकदमा दर्ज रजिस्टर कराने के लिए सि0 सोनु 2785 के द्वारा थाना भेजी जा रही है। बाद मुकदमा दर्ज रजिस्टर करके मुकदमा न0 से सुचित करें तथा मुकदमा की आगामी अनुसंधान के लिए मौका पर अन्य अनुसंधान अधिकारी भेजा जावे। मन HC मय गाडी सरकारी, आरोपी के माल मुकदमा सहित मौका पर मौजुद हुँ। अज:- भुपानी मोड फरीदाबाद SD:- KULDEEP SINGH HC 1765 C.B. SEC-85 FARIDABAD DT. 5/1/19 AT. MOB: 9467754822 अज थाना- हस्ब आमदा तहरीर उपरोक्त थाना पर प्राप्त होने पर मुकदमा न0 3 दिनांक 05.01.19 धारा 25.54.59 A.ACT  थाना भुपानी फरीदाबाद दर्ज रजिस्टर किया जाकर FIR की प्रतियां नियमानुसार कम्पयुटर के द्वारा तैयार करके सम्बन्धित अफसरान बालान की सेवा मे बजरीया डाक भेजी जा रही है । नकल मिशल पुलिस मय असल तहरीर आगामी कार्यावाही हेतु आरिन्दा सि0 के I/O बर मौका भेजी जा रही है । नोट:-  यह मुकदमा ASI रामसिंह 1060 की हाजरी मे दर्ज किया गया है। वा मुकदमा हजा का दुसरा I/O SI राजेन्द्र CB SEC. 85 है ,  SI राजेन्द्र वा ASI रामसिंह की CCTNS ID न होने के कारण I/O वा हाजरी  ASI राजकुमार को ही दिखाया गया है ।'"
      ]
     },
     "execution_count": 394,
     "metadata": {},
     "output_type": "execute_result"
    }
   ],
   "source": [
    "fir_texts[2]"
   ]
  },
  {
   "cell_type": "code",
   "execution_count": 395,
   "id": "91a6b096-0cbd-40c5-b0f8-c1ad10f1c96b",
   "metadata": {},
   "outputs": [
    {
     "data": {
      "text/plain": [
       "\"HARYANA POLICE CITIZEN SERVICES (हरियाणा पुलिस नागरिक सेवा)\\n    FIRST INFORMATION REPORT\\n         (Under Section 154 Cr.P.C.)\\n        प्रथम सूचना रिपोर्ट\\n (धारा 154 दंड प्रक्रिया सहिंता के तहत)\\n1.\\nDistrict (ज़िला): FARIDABAD\\nP.S. (थाना): BHUPANI\\nYear (वर्ष): 2019\\nFIR No. (प्र.सू.रि. सं.): 0003\\nDate (दिनांक): 05/01/2019 22:51\\n2.\\nS.No. (क्र.सं.)\\nActs (अधिनियम)\\nSections (धारा(एँ))\\n1\\nARMS ACT, 1959\\n25\\n2\\nARMS ACT, 1959\\n54\\n3\\nARMS ACT, 1959\\n59\\n3.\\n(a)\\nOccurrence of offence (अपराध की घटना):\\nDate from (दिनांक से): \\n1\\nDay (दिन): \\nDate To (दिनांक तक): \\nTime Period (समय अवधि): \\nTime To (समय तक): \\nTime From (समय से): \\n(b)\\nInformation received at P.S. (थाना जहां सूचना प्राप्त हुई):\\nDate (दिनांक): 05/01/2019\\nTime (समय): 18:30 hrs\\n(c)\\nGeneral Diary Reference (रोजनामचा संदर्भ): \\nEntry No. (प्रविष्टि सं.):  020\\nTime (समय): 05/01/2019 22:44 hrs\\n4.\\nType of Information (सूचना का प्रकार): Written\\n5.\\nPlace of Occurrence (घटनास्थल): \\n1.\\n(a) Direction and distance from P.S. (थाना से दूरी और दिशा): WEST, 1 Km(s)\\nBeat No. (बीट सं.): 01\\n(b) Address (पता): भुपानी मोड,\\n(c) In case, outside the limit of this Police Station, then  Name of P.S. (यदि थाना सीमा के बाहर है तो थाना का नाम): \\n   District (State) (जिला (राज्य)): FARIDABAD (HARYANA)\\n6.\\nComplainant / Informant (शिकायतकर्ता / सूचनाकर्ता):\\n(a)\\nName (नाम): HC KULDEEP SINGH   \\n(b)\\nFather's/Husband's Name (पिता/पति का नाम): \\n(d)  Nationality (राष्ट्रीयता): INDIA\\n(c)\\nDate/Year of Birth (जन्म तिथि / वर्ष): 1987 \\n(e)\\nUID No. (यूआईडी सं.): \\n(f)\\nPassport No. (पासपोर्ट सं.): \\nDate of Issue (जारी करने की तिथि): \\nPlace of Issue (जारी करने का स्थान): \\n(g)\\nOccupation (व्यवसाय): \\n(h)\\nAddress (पता):\\nS.No. (क्र.सं.)\\nAddress Type (पता का प्रकार)\\nAddress (पता)\\n1\\nPresent Address\\nCB सै0-85, FARIDABAD, HARYANA, INDIA\\n2\\nPermanent Address\\nCB सै0-85, FARIDABAD, HARYANA, INDIA\\n(i)\\nPhone number (दूरभाष सं.): \\nMobile (मोबाइल सं.): \\n7.\\nDetails of known / suspected / unknown accused with full particulars (ज्ञात / संदिग्ध / अज्ञात अभियुक्त का पूरे विवरण सहित वर्णन):\\n  S. No. (क्र.सं.) \\nName (नाम)\\nAlias (उपनाम)\\nRelative's Name (रिश्तेदार का नाम)\\n1\\nरोहित   \\n  Father's Name: स्व0 जितेन्द्र भारती\\n8.\\nReasons for delay in reporting by the complainant / informant (शिकायतकर्ता / सूचनाकर्ता द्वारा रिपोर्ट देरी से दर्ज कराने के कारण):\\n  9.\\nParticulars of properties of interest (संबन्धित सम्पत्ति का विवरण):\\nS. No. (क्र.सं.)\\nProperty Type (सम्पत्ति के प्रकार)\\nSub Type (उप प्रकार)\\nValue(In Rs/-) (मूल्य (रु में))\\n        System IP (आईपी):10.194.54.12\\n20/03/2024 12:37:37\\n1/2\""
      ]
     },
     "execution_count": 395,
     "metadata": {},
     "output_type": "execute_result"
    }
   ],
   "source": [
    "first_page_data[2]"
   ]
  },
  {
   "cell_type": "code",
   "execution_count": 381,
   "id": "20e37dce-5b95-4319-8fe9-7d16f74dc309",
   "metadata": {},
   "outputs": [
    {
     "data": {
      "text/plain": [
       "[\"HARYANA POLICE CITIZEN SERVICES (हरियाणा पुलिस नागरिक सेवा)\\n    FIRST INFORMATION REPORT\\n         (Under Section 154 Cr.P.C.)\\n        प्रथम सूचना रिपोर्ट\\n (धारा 154 दंड प्रक्रिया सहिंता के तहत)\\n1.\\nDistrict (ज़िला): FARIDABAD\\nP.S. (थाना): BHUPANI\\nYear (वर्ष): 2019\\nFIR No. (प्र.सू.रि. सं.): 0001\\nDate (दिनांक): 03/01/2019 20:17\\n2.\\nS.No. (क्र.सं.)\\nActs (अधिनियम)\\nSections (धारा(एँ))\\n1\\nTHE PUBLIC GAMBLING ACT, 1867, 3 OF 1867\\n13\\n3.\\n(a)\\nOccurrence of offence (अपराध की घटना):\\nDate from (दिनांक से): 03/01/2019\\n1\\nDay (दिन): Thursday\\nDate To (दिनांक तक): 03/01/2019\\nTime Period (समय अवधि): Pahar 6\\nTime To (समय तक): 16:50 hrs\\nTime From (समय से): 16:05 hrs\\n(b)\\nInformation received at P.S. (थाना जहां सूचना प्राप्त हुई):\\nDate (दिनांक): 03/01/2019\\nTime (समय): 17:30 hrs\\n(c)\\nGeneral Diary Reference (रोजनामचा संदर्भ): \\nEntry No. (प्रविष्टि सं.):  018\\nTime (समय): 03/01/2019 19:54 hrs\\n4.\\nType of Information (सूचना का प्रकार): Written\\n5.\\nPlace of Occurrence (घटनास्थल): \\n1.\\n(a) Direction and distance from P.S. (थाना से दूरी और दिशा): SOUTH-EAST, 04 Km(s)\\nBeat No. (बीट सं.): 14\\n(b) Address (पता): के पुल के पास, गाँव नचौली,\\n(c) In case, outside the limit of this Police Station, then  Name of P.S. (यदि थाना सीमा के बाहर है तो थाना का नाम): \\n   District (State) (जिला (राज्य)):  \\n6.\\nComplainant / Informant (शिकायतकर्ता / सूचनाकर्ता):\\n(a)\\nName (नाम): ASI RAMSINGH   \\n(b)\\nFather's/Husband's Name (पिता/पति का नाम): \\n(d)  Nationality (राष्ट्रीयता): INDIA\\n(c)\\nDate/Year of Birth (जन्म तिथि / वर्ष): 1977 \\n(e)\\nUID No. (यूआईडी सं.): \\n(f)\\nPassport No. (पासपोर्ट सं.): \\nDate of Issue (जारी करने की तिथि): \\nPlace of Issue (जारी करने का स्थान): \\n(g)\\nOccupation (व्यवसाय): \\n(h)\\nAddress (पता):\\nS.No. (क्र.सं.)\\nAddress Type (पता का प्रकार)\\nAddress (पता)\\n1\\nPresent Address\\nBHUPANI POLICE STATION, FARIDABAD, HARYANA, INDIA\\n2\\nPermanent Address\\nBHUPANI POLICE STATION, FARIDABAD, HARYANA, INDIA\\n(i)\\nPhone number (दूरभाष सं.): \\nMobile (मोबाइल सं.): 0\\n7.\\nDetails of known / suspected / unknown accused with full particulars (ज्ञात / संदिग्ध / अज्ञात अभियुक्त का पूरे विवरण सहित वर्णन):\\n  S. No. (क्र.सं.) \\nName (नाम)\\nAlias (उपनाम)\\nRelative's Name (रिश्तेदार का नाम)\\n1\\nबिनेश   \\n  Father's Name: मामचन्द\\n2\\nसागर   \\n  Father's Name: संजय\\n8.\\nReasons for delay in reporting by the complainant / informant (शिकायतकर्ता / सूचनाकर्ता द्वारा रिपोर्ट देरी से दर्ज कराने के कारण):\\n  9.\\nParticulars of properties of interest (संबन्धित सम्पत्ति का विवरण):\\nS. No. (क्र.सं.)\\nProperty Type (सम्पत्ति के प्रकार)\\nSub Type (उप प्रकार)\\nValue(In Rs/-) (मूल्य (रु में))\\n1\\nCOIN AND CURRENCY\\nINDIAN RUPEE\\n800.00\\nSystem IP (आईपी):10.194.54.12\\n20/03/2024 12:36:47\\n1/2\",\n",
       " \"HARYANA POLICE CITIZEN SERVICES (हरियाणा पुलिस नागरिक सेवा)\\n    FIRST INFORMATION REPORT\\n         (Under Section 154 Cr.P.C.)\\n        प्रथम सूचना रिपोर्ट\\n (धारा 154 दंड प्रक्रिया सहिंता के तहत)\\n1.\\nDistrict (ज़िला): FARIDABAD\\nP.S. (थाना): BHUPANI\\nYear (वर्ष): 2019\\nFIR No. (प्र.सू.रि. सं.): 0002\\nDate (दिनांक): 05/01/2019 22:16\\n2.\\nS.No. (क्र.सं.)\\nActs (अधिनियम)\\nSections (धारा(एँ))\\n1\\nARMS ACT, 1959\\n25\\n2\\nARMS ACT, 1959\\n54\\n3\\nARMS ACT, 1959\\n59\\n4\\nIPC 1860\\n147\\n5\\nIPC 1860\\n148\\n6\\nIPC 1860\\n149\\n7\\nIPC 1860\\n285\\n8\\nIPC 1860\\n323\\n9\\nIPC 1860\\n447\\n10\\nIPC 1860\\n506\\n11\\nIPC 1860\\n511\\n3.\\n(a)\\nOccurrence of offence (अपराध की घटना):\\nDate from (दिनांक से): 04/01/2019\\n1\\nDay (दिन): Intervening Days\\nDate To (दिनांक तक): 05/01/2019\\nTime Period (समय अवधि): \\nTime To (समय तक): 15:00 hrs\\nTime From (समय से): 10:00 hrs\\n(b)\\nInformation received at P.S. (थाना जहां सूचना प्राप्त हुई):\\nDate (दिनांक): 05/01/2019\\nTime (समय): 15:30 hrs\\n(c)\\nGeneral Diary Reference (रोजनामचा संदर्भ): \\nEntry No. (प्रविष्टि सं.):  015\\nTime (समय): 05/01/2019 21:52 hrs\\n4.\\nType of Information (सूचना का प्रकार): Written\\n5.\\nPlace of Occurrence (घटनास्थल): \\n1.\\n(a) Direction and distance from P.S. (थाना से दूरी और दिशा): SOUTH-EAST, 4 Km(s)\\nBeat No. (बीट सं.): 14\\n(b) Address (पता): नचौली,\\n(c) In case, outside the limit of this Police Station, then  Name of P.S. (यदि थाना सीमा के बाहर है तो थाना का नाम): \\n   District (State) (जिला (राज्य)):  \\n6.\\nComplainant / Informant (शिकायतकर्ता / सूचनाकर्ता):\\n(a)\\nName (नाम): सत्यदेव   \\n(b)\\nFather's Name (पिताका नाम): स्व0 चन्दीराम\\n(d)  Nationality (राष्ट्रीयता): INDIA\\n(c)\\nDate/Year of Birth (जन्म तिथि / वर्ष): 1984 \\n(e)\\nUID No. (यूआईडी सं.): \\n(f)\\nPassport No. (पासपोर्ट सं.): \\nDate of Issue (जारी करने की तिथि): \\nPlace of Issue (जारी करने का स्थान): \\n(g)\\nOccupation (व्यवसाय): \\n(h)\\nAddress (पता):\\nS.No. (क्र.सं.)\\nAddress Type (पता का प्रकार)\\nAddress (पता)\\n1\\nPresent Address\\nनचौली, FARIDABAD, HARYANA, INDIA\\n2\\nPermanent Address\\nनचौली, FARIDABAD, HARYANA, INDIA\\n(i)\\nPhone number (दूरभाष सं.): \\nMobile (मोबाइल सं.): \\n7.\\nDetails of known / suspected / unknown accused with full particulars (ज्ञात / संदिग्ध / अज्ञात अभियुक्त का पूरे विवरण सहित वर्णन):\\n  S. No. (क्र.सं.) \\nName (नाम)\\nAlias (उपनाम)\\nRelative's Name (रिश्तेदार का नाम)\\n1\\nसुनील वकील   \\n    2\\nदुष्यन्त   \\n    3\\nसदींप   \\n  Father's Name: भिक्की\\n4\\nबुध सिंह   \\n  Father's Name: शिवनारायण\\n5\\nसतु   \\n    6\\nरामदास   \\n    7\\nविक्का   \\n  Father's Name: सत्ते\\nSystem IP (आईपी):10.194.54.12\\n20/03/2024 12:37:17\\n1/2\",\n",
       " \"HARYANA POLICE CITIZEN SERVICES (हरियाणा पुलिस नागरिक सेवा)\\n    FIRST INFORMATION REPORT\\n         (Under Section 154 Cr.P.C.)\\n        प्रथम सूचना रिपोर्ट\\n (धारा 154 दंड प्रक्रिया सहिंता के तहत)\\n1.\\nDistrict (ज़िला): FARIDABAD\\nP.S. (थाना): BHUPANI\\nYear (वर्ष): 2019\\nFIR No. (प्र.सू.रि. सं.): 0003\\nDate (दिनांक): 05/01/2019 22:51\\n2.\\nS.No. (क्र.सं.)\\nActs (अधिनियम)\\nSections (धारा(एँ))\\n1\\nARMS ACT, 1959\\n25\\n2\\nARMS ACT, 1959\\n54\\n3\\nARMS ACT, 1959\\n59\\n3.\\n(a)\\nOccurrence of offence (अपराध की घटना):\\nDate from (दिनांक से): \\n1\\nDay (दिन): \\nDate To (दिनांक तक): \\nTime Period (समय अवधि): \\nTime To (समय तक): \\nTime From (समय से): \\n(b)\\nInformation received at P.S. (थाना जहां सूचना प्राप्त हुई):\\nDate (दिनांक): 05/01/2019\\nTime (समय): 18:30 hrs\\n(c)\\nGeneral Diary Reference (रोजनामचा संदर्भ): \\nEntry No. (प्रविष्टि सं.):  020\\nTime (समय): 05/01/2019 22:44 hrs\\n4.\\nType of Information (सूचना का प्रकार): Written\\n5.\\nPlace of Occurrence (घटनास्थल): \\n1.\\n(a) Direction and distance from P.S. (थाना से दूरी और दिशा): WEST, 1 Km(s)\\nBeat No. (बीट सं.): 01\\n(b) Address (पता): भुपानी मोड,\\n(c) In case, outside the limit of this Police Station, then  Name of P.S. (यदि थाना सीमा के बाहर है तो थाना का नाम): \\n   District (State) (जिला (राज्य)): FARIDABAD (HARYANA)\\n6.\\nComplainant / Informant (शिकायतकर्ता / सूचनाकर्ता):\\n(a)\\nName (नाम): HC KULDEEP SINGH   \\n(b)\\nFather's/Husband's Name (पिता/पति का नाम): \\n(d)  Nationality (राष्ट्रीयता): INDIA\\n(c)\\nDate/Year of Birth (जन्म तिथि / वर्ष): 1987 \\n(e)\\nUID No. (यूआईडी सं.): \\n(f)\\nPassport No. (पासपोर्ट सं.): \\nDate of Issue (जारी करने की तिथि): \\nPlace of Issue (जारी करने का स्थान): \\n(g)\\nOccupation (व्यवसाय): \\n(h)\\nAddress (पता):\\nS.No. (क्र.सं.)\\nAddress Type (पता का प्रकार)\\nAddress (पता)\\n1\\nPresent Address\\nCB सै0-85, FARIDABAD, HARYANA, INDIA\\n2\\nPermanent Address\\nCB सै0-85, FARIDABAD, HARYANA, INDIA\\n(i)\\nPhone number (दूरभाष सं.): \\nMobile (मोबाइल सं.): \\n7.\\nDetails of known / suspected / unknown accused with full particulars (ज्ञात / संदिग्ध / अज्ञात अभियुक्त का पूरे विवरण सहित वर्णन):\\n  S. No. (क्र.सं.) \\nName (नाम)\\nAlias (उपनाम)\\nRelative's Name (रिश्तेदार का नाम)\\n1\\nरोहित   \\n  Father's Name: स्व0 जितेन्द्र भारती\\n8.\\nReasons for delay in reporting by the complainant / informant (शिकायतकर्ता / सूचनाकर्ता द्वारा रिपोर्ट देरी से दर्ज कराने के कारण):\\n  9.\\nParticulars of properties of interest (संबन्धित सम्पत्ति का विवरण):\\nS. No. (क्र.सं.)\\nProperty Type (सम्पत्ति के प्रकार)\\nSub Type (उप प्रकार)\\nValue(In Rs/-) (मूल्य (रु में))\\n        System IP (आईपी):10.194.54.12\\n20/03/2024 12:37:37\\n1/2\",\n",
       " \"HARYANA POLICE CITIZEN SERVICES (हरियाणा पुलिस नागरिक सेवा)\\n    FIRST INFORMATION REPORT\\n         (Under Section 154 Cr.P.C.)\\n        प्रथम सूचना रिपोर्ट\\n (धारा 154 दंड प्रक्रिया सहिंता के तहत)\\n1.\\nDistrict (ज़िला): FARIDABAD\\nP.S. (थाना): BHUPANI\\nYear (वर्ष): 2019\\nFIR No. (प्र.सू.रि. सं.): 0004\\nDate (दिनांक): 09/01/2019 19:28\\n2.\\nS.No. (क्र.सं.)\\nActs (अधिनियम)\\nSections (धारा(एँ))\\n1\\nIPC 1860\\n406\\n2\\nIPC 1860\\n420\\n3.\\n(a)\\nOccurrence of offence (अपराध की घटना):\\nDate from (दिनांक से): \\n1\\nDay (दिन): \\nDate To (दिनांक तक): \\nTime Period (समय अवधि): \\nTime To (समय तक): \\nTime From (समय से): \\n(b)\\nInformation received at P.S. (थाना जहां सूचना प्राप्त हुई):\\nDate (दिनांक): 09/01/2019\\nTime (समय): 15:30 hrs\\n(c)\\nGeneral Diary Reference (रोजनामचा संदर्भ): \\nEntry No. (प्रविष्टि सं.):  024\\nTime (समय): 09/01/2019 19:09 hrs\\n4.\\nType of Information (सूचना का प्रकार): Written\\n5.\\nPlace of Occurrence (घटनास्थल): \\n1.\\n(a) Direction and distance from P.S. (थाना से दूरी और दिशा):  \\nBeat No. (बीट सं.): \\n(b) Address (पता): \\n(c) In case, outside the limit of this Police Station, then  Name of P.S. (यदि थाना सीमा के बाहर है तो थाना का नाम): \\n   District (State) (जिला (राज्य)):  \\n6.\\nComplainant / Informant (शिकायतकर्ता / सूचनाकर्ता):\\n(a)\\nName (नाम): उमेश कुमार कनोजिया   \\n(b)\\nFather's Name (पिताका नाम): श्री राम भजन कनोजिया\\n(d)  Nationality (राष्ट्रीयता): INDIA\\n(c)\\nDate/Year of Birth (जन्म तिथि / वर्ष): 1979 \\n(e)\\nUID No. (यूआईडी सं.): \\n(f)\\nPassport No. (पासपोर्ट सं.): \\nDate of Issue (जारी करने की तिथि): \\nPlace of Issue (जारी करने का स्थान): \\n(g)\\nOccupation (व्यवसाय): \\n(h)\\nAddress (पता):\\nS.No. (क्र.सं.)\\nAddress Type (पता का प्रकार)\\nAddress (पता)\\n1\\nPresent Address\\n7/376, खिचडीपुर, दिल्ली 91, EAST, DELHI, INDIA\\n2\\nPermanent Address\\n7/376, खिचडीपुर, दिल्ली 91, EAST, DELHI, INDIA\\n(i)\\nPhone number (दूरभाष सं.): \\nMobile (मोबाइल सं.): \\n7.\\nDetails of known / suspected / unknown accused with full particulars (ज्ञात / संदिग्ध / अज्ञात अभियुक्त का पूरे विवरण सहित वर्णन):\\n  S. No. (क्र.सं.) \\nName (नाम)\\nAlias (उपनाम)\\nRelative's Name (रिश्तेदार का नाम)\\n1\\nनितेश कुमार   \\n  Father's Name: श्री विनोद कुमार\\n2\\nअंकित चार्ल्स   \\n  Father's Name: श्री राजेन्द्र चार्ल्स\\n8.\\nReasons for delay in reporting by the complainant / informant (शिकायतकर्ता / सूचनाकर्ता द्वारा रिपोर्ट देरी से दर्ज कराने के कारण):\\n  9.\\nParticulars of properties of interest (संबन्धित सम्पत्ति का विवरण):\\nS. No. (क्र.सं.)\\nProperty Type (सम्पत्ति के प्रकार)\\nSub Type (उप प्रकार)\\nValue(In Rs/-) (मूल्य (रु में))\\n        System IP (आईपी):10.194.54.12\\n20/03/2024 12:38:01\\n1/2\",\n",
       " \"HARYANA POLICE CITIZEN SERVICES (हरियाणा पुलिस नागरिक सेवा)\\n    FIRST INFORMATION REPORT\\n         (Under Section 154 Cr.P.C.)\\n        प्रथम सूचना रिपोर्ट\\n (धारा 154 दंड प्रक्रिया सहिंता के तहत)\\n1.\\nDistrict (ज़िला): FARIDABAD\\nP.S. (थाना): BHUPANI\\nYear (वर्ष): 2019\\nFIR No. (प्र.सू.रि. सं.): 0005\\nDate (दिनांक): 10/01/2019 15:42\\n2.\\nS.No. (क्र.सं.)\\nActs (अधिनियम)\\nSections (धारा(एँ))\\n1\\nIPC 1860\\n406\\n2\\nIPC 1860\\n420\\n3.\\n(a)\\nOccurrence of offence (अपराध की घटना):\\nDate from (दिनांक से): \\n1\\nDay (दिन): \\nDate To (दिनांक तक): \\nTime Period (समय अवधि): \\nTime To (समय तक): \\nTime From (समय से): \\n(b)\\nInformation received at P.S. (थाना जहां सूचना प्राप्त हुई):\\nDate (दिनांक): 10/01/2019\\nTime (समय): 12:30 hrs\\n(c)\\nGeneral Diary Reference (रोजनामचा संदर्भ): \\nEntry No. (प्रविष्टि सं.):  015\\nTime (समय): 10/01/2019 15:01 hrs\\n4.\\nType of Information (सूचना का प्रकार): Written\\n5.\\nPlace of Occurrence (घटनास्थल): \\n1.\\n(a) Direction and distance from P.S. (थाना से दूरी और दिशा): WEST, 08 Km(s)\\nBeat No. (बीट सं.): \\n(b) Address (पता): SEC-89, FARIDABAD,\\n(c) In case, outside the limit of this Police Station, then  Name of P.S. (यदि थाना सीमा के बाहर है तो थाना का नाम): \\n   District (State) (जिला (राज्य)):  \\n6.\\nComplainant / Informant (शिकायतकर्ता / सूचनाकर्ता):\\n(a)\\nName (नाम): ANIL KUMAR MITTAL   \\n(b)\\nFather's Name (पिताका नाम): LATE SHANKER LAL GUPTA\\n(d)  Nationality (राष्ट्रीयता): INDIA\\n(c)\\nDate/Year of Birth (जन्म तिथि / वर्ष): 1979 \\n(e)\\nUID No. (यूआईडी सं.): \\n(f)\\nPassport No. (पासपोर्ट सं.): \\nDate of Issue (जारी करने की तिथि): \\nPlace of Issue (जारी करने का स्थान): \\n(g)\\nOccupation (व्यवसाय): \\n(h)\\nAddress (पता):\\nS.No. (क्र.सं.)\\nAddress Type (पता का प्रकार)\\nAddress (पता)\\n1\\nPresent Address\\n800, SEC-09, SECTOR - 8, FARIDABAD, HARYANA, INDIA\\n2\\nPermanent Address\\n800, SEC-09, SECTOR - 8, FARIDABAD, HARYANA, INDIA\\n(i)\\nPhone number (दूरभाष सं.): \\nMobile (मोबाइल सं.): \\n7.\\nDetails of known / suspected / unknown accused with full particulars (ज्ञात / संदिग्ध / अज्ञात अभियुक्त का पूरे विवरण सहित वर्णन):\\n  S. No. (क्र.सं.) \\nName (नाम)\\nAlias (उपनाम)\\nRelative's Name (रिश्तेदार का नाम)\\n1\\nHARPAL SINGH YADAV   \\n    2\\nManav Chandra   \\n    3\\nRajesh Kumar   \\n    8.\\nReasons for delay in reporting by the complainant / informant (शिकायतकर्ता / सूचनाकर्ता द्वारा रिपोर्ट देरी से दर्ज कराने के कारण):\\n  9.\\nParticulars of properties of interest (संबन्धित सम्पत्ति का विवरण):\\nS. No. (क्र.सं.)\\nProperty Type (सम्पत्ति के प्रकार)\\nSub Type (उप प्रकार)\\nValue(In Rs/-) (मूल्य (रु में))\\n        System IP (आईपी):10.194.54.12\\n20/03/2024 12:38:26\\n1/2\",\n",
       " \"HARYANA POLICE CITIZEN SERVICES (हरियाणा पुलिस नागरिक सेवा)\\n    FIRST INFORMATION REPORT\\n         (Under Section 154 Cr.P.C.)\\n        प्रथम सूचना रिपोर्ट\\n (धारा 154 दंड प्रक्रिया सहिंता के तहत)\\n1.\\nDistrict (ज़िला): FARIDABAD\\nP.S. (थाना): BHUPANI\\nYear (वर्ष): 2019\\nFIR No. (प्र.सू.रि. सं.): 0006\\nDate (दिनांक): 12/01/2019 22:29\\n2.\\nS.No. (क्र.सं.)\\nActs (अधिनियम)\\nSections (धारा(एँ))\\n1\\nIPC 1860\\n379A\\n3.\\n(a)\\nOccurrence of offence (अपराध की घटना):\\nDate from (दिनांक से): 12/01/2019\\n1\\nDay (दिन): Saturday\\nDate To (दिनांक तक): 12/01/2019\\nTime Period (समय अवधि): Pahar 7\\nTime To (समय तक): 20:30 hrs\\nTime From (समय से): 20:00 hrs\\n(b)\\nInformation received at P.S. (थाना जहां सूचना प्राप्त हुई):\\nDate (दिनांक): 12/01/2019\\nTime (समय): 22:00 hrs\\n(c)\\nGeneral Diary Reference (रोजनामचा संदर्भ): \\nEntry No. (प्रविष्टि सं.):  019\\nTime (समय): 12/01/2019 22:22 hrs\\n4.\\nType of Information (सूचना का प्रकार): Written\\n5.\\nPlace of Occurrence (घटनास्थल): \\n1.\\n(a) Direction and distance from P.S. (थाना से दूरी और दिशा): WEST, 02 Km(s)\\nBeat No. (बीट सं.): 01\\n(b) Address (पता): मास्टर रोड भूपानी कालोनी,\\n(c) In case, outside the limit of this Police Station, then  Name of P.S. (यदि थाना सीमा के बाहर है तो थाना का नाम): \\n   District (State) (जिला (राज्य)): FARIDABAD (HARYANA)\\n6.\\nComplainant / Informant (शिकायतकर्ता / सूचनाकर्ता):\\n(a)\\nName (नाम): मनोज   \\n(b)\\nFather's Name (पिताका नाम): राजेन्द्र चौहान\\n(d)  Nationality (राष्ट्रीयता): INDIA\\n(c)\\nDate/Year of Birth (जन्म तिथि / वर्ष): 1997 \\n(e)\\nUID No. (यूआईडी सं.): \\n(f)\\nPassport No. (पासपोर्ट सं.): \\nDate of Issue (जारी करने की तिथि): \\nPlace of Issue (जारी करने का स्थान): \\n(g)\\nOccupation (व्यवसाय): \\n(h)\\nAddress (पता):\\nS.No. (क्र.सं.)\\nAddress Type (पता का प्रकार)\\nAddress (पता)\\n1\\nPresent Address\\nगली न0 5, भारत कालोनी, KHERIPUL, FARIDABAD, HARYANA, INDIA\\n2\\nPermanent Address\\nगली न0 5, भारत कालोनी, KHERIPUL, FARIDABAD, HARYANA, INDIA\\n(i)\\nPhone number (दूरभाष सं.): \\nMobile (मोबाइल सं.): \\n7.\\nDetails of known / suspected / unknown accused with full particulars (ज्ञात / संदिग्ध / अज्ञात अभियुक्त का पूरे विवरण सहित वर्णन):\\n  S. No. (क्र.सं.) \\nName (नाम)\\nAlias (उपनाम)\\nRelative's Name (रिश्तेदार का नाम)\\n        8.\\nReasons for delay in reporting by the complainant / informant (शिकायतकर्ता / सूचनाकर्ता द्वारा रिपोर्ट देरी से दर्ज कराने के कारण):\\n  9.\\nParticulars of properties of interest (संबन्धित सम्पत्ति का विवरण):\\nS. No. (क्र.सं.)\\nProperty Type (सम्पत्ति के प्रकार)\\nSub Type (उप प्रकार)\\nValue(In Rs/-) (मूल्य (रु में))\\n1\\nAUTOMOBILES AND OTHERS\\n  .00\\n10.\\nTotal value of property stolen (In Rs/-) (चोरी हुई सम्पत्ति का कुल मूल्य(रु में)): \\nSystem IP (आईपी):10.194.54.12\\n20/03/2024 12:38:47\\n1/2\",\n",
       " \"HARYANA POLICE CITIZEN SERVICES (हरियाणा पुलिस नागरिक सेवा)\\n    FIRST INFORMATION REPORT\\n         (Under Section 154 Cr.P.C.)\\n        प्रथम सूचना रिपोर्ट\\n (धारा 154 दंड प्रक्रिया सहिंता के तहत)\\n1.\\nDistrict (ज़िला): FARIDABAD\\nP.S. (थाना): BHUPANI\\nYear (वर्ष): 2019\\nFIR No. (प्र.सू.रि. सं.): 0007\\nDate (दिनांक): 13/01/2019 15:54\\n2.\\nS.No. (क्र.सं.)\\nActs (अधिनियम)\\nSections (धारा(एँ))\\n1\\nIPC 1860\\n379\\n3.\\n(a)\\nOccurrence of offence (अपराध की घटना):\\nDate from (दिनांक से): 05/01/2019\\n1\\nDay (दिन): Saturday\\nDate To (दिनांक तक): 05/01/2019\\nTime Period (समय अवधि): Pahar 8\\nTime To (समय तक): 22:00 hrs\\nTime From (समय से): 21:30 hrs\\n(b)\\nInformation received at P.S. (थाना जहां सूचना प्राप्त हुई):\\nDate (दिनांक): 13/01/2019\\nTime (समय): 11:30 hrs\\n(c)\\nGeneral Diary Reference (रोजनामचा संदर्भ): \\nEntry No. (प्रविष्टि सं.):  009\\nTime (समय): 13/01/2019 15:42 hrs\\n4.\\nType of Information (सूचना का प्रकार): Written\\n5.\\nPlace of Occurrence (घटनास्थल): \\n1.\\n(a) Direction and distance from P.S. (थाना से दूरी और दिशा): WEST, 01 Km(s)\\nBeat No. (बीट सं.): 01\\n(b) Address (पता): भूपानी मोड,\\n(c) In case, outside the limit of this Police Station, then  Name of P.S. (यदि थाना सीमा के बाहर है तो थाना का नाम): BHUPANI\\n   District (State) (जिला (राज्य)): FARIDABAD (HARYANA)\\n6.\\nComplainant / Informant (शिकायतकर्ता / सूचनाकर्ता):\\n(a)\\nName (नाम): सुमेर   \\n(b)\\nFather's Name (पिताका नाम): श्री बृजपाल\\n(d)  Nationality (राष्ट्रीयता): INDIA\\n(c)\\nDate/Year of Birth (जन्म तिथि / वर्ष): 1979 \\n(e)\\nUID No. (यूआईडी सं.): \\n(f)\\nPassport No. (पासपोर्ट सं.): \\nDate of Issue (जारी करने की तिथि): \\nPlace of Issue (जारी करने का स्थान): \\n(g)\\nOccupation (व्यवसाय): \\n(h)\\nAddress (पता):\\nS.No. (क्र.सं.)\\nAddress Type (पता का प्रकार)\\nAddress (पता)\\n1\\nPresent Address\\nगांव जसाना, TIGAON, FARIDABAD, HARYANA, INDIA\\n2\\nPermanent Address\\nगांव जसाना, TIGAON, FARIDABAD, HARYANA, INDIA\\n(i)\\nPhone number (दूरभाष सं.): \\nMobile (मोबाइल सं.): \\n7.\\nDetails of known / suspected / unknown accused with full particulars (ज्ञात / संदिग्ध / अज्ञात अभियुक्त का पूरे विवरण सहित वर्णन):\\n  S. No. (क्र.सं.) \\nName (नाम)\\nAlias (उपनाम)\\nRelative's Name (रिश्तेदार का नाम)\\n        8.\\nReasons for delay in reporting by the complainant / informant (शिकायतकर्ता / सूचनाकर्ता द्वारा रिपोर्ट देरी से दर्ज कराने के कारण):\\n  9.\\nParticulars of properties of interest (संबन्धित सम्पत्ति का विवरण):\\nS. No. (क्र.सं.)\\nProperty Type (सम्पत्ति के प्रकार)\\nSub Type (उप प्रकार)\\nValue(In Rs/-) (मूल्य (रु में))\\n1\\nAUTOMOBILES AND OTHERS\\n  .00\\n10.\\nTotal value of property stolen (In Rs/-) (चोरी हुई सम्पत्ति का कुल मूल्य(रु में)): \\nSystem IP (आईपी):10.194.54.12\\n20/03/2024 12:39:05\\n1/2\",\n",
       " \"HARYANA POLICE CITIZEN SERVICES (हरियाणा पुलिस नागरिक सेवा)\\n    FIRST INFORMATION REPORT\\n         (Under Section 154 Cr.P.C.)\\n        प्रथम सूचना रिपोर्ट\\n (धारा 154 दंड प्रक्रिया सहिंता के तहत)\\n1.\\nDistrict (ज़िला): FARIDABAD\\nP.S. (थाना): BHUPANI\\nYear (वर्ष): 2019\\nFIR No. (प्र.सू.रि. सं.): 0008\\nDate (दिनांक): 14/01/2019 21:59\\n2.\\nS.No. (क्र.सं.)\\nActs (अधिनियम)\\nSections (धारा(एँ))\\n1\\nIPC 1860\\n346\\n3.\\n(a)\\nOccurrence of offence (अपराध की घटना):\\nDate from (दिनांक से): 11/01/2019\\n1\\nDay (दिन): Friday\\nDate To (दिनांक तक): 11/01/2019\\nTime Period (समय अवधि): Pahar 3\\nTime To (समय तक): 07:30 hrs\\nTime From (समय से): 07:00 hrs\\n(b)\\nInformation received at P.S. (थाना जहां सूचना प्राप्त हुई):\\nDate (दिनांक): 14/01/2019\\nTime (समय): 19:30 hrs\\n(c)\\nGeneral Diary Reference (रोजनामचा संदर्भ): \\nEntry No. (प्रविष्टि सं.):  023\\nTime (समय): 14/01/2019 21:53 hrs\\n4.\\nType of Information (सूचना का प्रकार): Written\\n5.\\nPlace of Occurrence (घटनास्थल): \\n1.\\n(a) Direction and distance from P.S. (थाना से दूरी और दिशा): WEST, 08 Km(s)\\nBeat No. (बीट सं.): 30\\n(b) Address (पता): SEC- 87,\\n(c) In case, outside the limit of this Police Station, then  Name of P.S. (यदि थाना सीमा के बाहर है तो थाना का नाम): \\n   District (State) (जिला (राज्य)): FARIDABAD (HARYANA)\\n6.\\nComplainant / Informant (शिकायतकर्ता / सूचनाकर्ता):\\n(a)\\nName (नाम): शशीबाला   \\n(b)\\nHusband's Name (पतिका नाम): य़शपाल शर्मा\\n(d)  Nationality (राष्ट्रीयता): INDIA\\n(c)\\nDate/Year of Birth (जन्म तिथि / वर्ष): 1974 \\n(e)\\nUID No. (यूआईडी सं.): \\n(f)\\nPassport No. (पासपोर्ट सं.): \\nDate of Issue (जारी करने की तिथि): \\nPlace of Issue (जारी करने का स्थान): \\n(g)\\nOccupation (व्यवसाय): \\n(h)\\nAddress (पता):\\nS.No. (क्र.सं.)\\nAddress Type (पता का प्रकार)\\nAddress (पता)\\n1\\nPresent Address\\nB-72 सांई पार्क अपार्टमैन्ट, सै0 87, BHUPANI, FARIDABAD, HARYANA, INDIA\\n2\\nPermanent Address\\nB-72 सांई पार्क अपार्टमैन्ट, सै0 87, BHUPANI, FARIDABAD, HARYANA, INDIA\\n(i)\\nPhone number (दूरभाष सं.): \\nMobile (मोबाइल सं.): \\n7.\\nDetails of known / suspected / unknown accused with full particulars (ज्ञात / संदिग्ध / अज्ञात अभियुक्त का पूरे विवरण सहित वर्णन):\\n  S. No. (क्र.सं.) \\nName (नाम)\\nAlias (उपनाम)\\nRelative's Name (रिश्तेदार का नाम)\\n        8.\\nReasons for delay in reporting by the complainant / informant (शिकायतकर्ता / सूचनाकर्ता द्वारा रिपोर्ट देरी से दर्ज कराने के कारण):\\n  9.\\nParticulars of properties of interest (संबन्धित सम्पत्ति का विवरण):\\nS. No. (क्र.सं.)\\nProperty Type (सम्पत्ति के प्रकार)\\nSub Type (उप प्रकार)\\nValue(In Rs/-) (मूल्य (रु में))\\n        10.\\nTotal value of property stolen (In Rs/-) (चोरी हुई सम्पत्ति का कुल मूल्य(रु में)): \\nSystem IP (आईपी):10.194.54.12\\n20/03/2024 12:39:30\\n1/2\",\n",
       " \"HARYANA POLICE CITIZEN SERVICES (हरियाणा पुलिस नागरिक सेवा)\\n    FIRST INFORMATION REPORT\\n         (Under Section 154 Cr.P.C.)\\n        प्रथम सूचना रिपोर्ट\\n (धारा 154 दंड प्रक्रिया सहिंता के तहत)\\n1.\\nDistrict (ज़िला): FARIDABAD\\nP.S. (थाना): BHUPANI\\nYear (वर्ष): 2019\\nFIR No. (प्र.सू.रि. सं.): 0009\\nDate (दिनांक): 15/01/2019 20:17\\n2.\\nS.No. (क्र.सं.)\\nActs (अधिनियम)\\nSections (धारा(एँ))\\n1\\nIPC 1860\\n346\\n3.\\n(a)\\nOccurrence of offence (अपराध की घटना):\\nDate from (दिनांक से): 15/01/2019\\n1\\nDay (दिन): Tuesday\\nDate To (दिनांक तक): 15/01/2019\\nTime Period (समय अवधि): Pahar 4\\nTime To (समय तक): 12:00 hrs\\nTime From (समय से): 11:30 hrs\\n(b)\\nInformation received at P.S. (थाना जहां सूचना प्राप्त हुई):\\nDate (दिनांक): 15/01/2019\\nTime (समय): 19:30 hrs\\n(c)\\nGeneral Diary Reference (रोजनामचा संदर्भ): \\nEntry No. (प्रविष्टि सं.):  031\\nTime (समय): 15/01/2019 20:09 hrs\\n4.\\nType of Information (सूचना का प्रकार): Written\\n5.\\nPlace of Occurrence (घटनास्थल): \\n1.\\n(a) Direction and distance from P.S. (थाना से दूरी और दिशा): SOUTH-EAST, 04 Km(s)\\nBeat No. (बीट सं.): 11\\n(b) Address (पता): विद्या संस्कार स्कूल, गांव नचौली,\\n(c) In case, outside the limit of this Police Station, then  Name of P.S. (यदि थाना सीमा के बाहर है तो थाना का नाम): \\n   District (State) (जिला (राज्य)): FARIDABAD (HARYANA)\\n6.\\nComplainant / Informant (शिकायतकर्ता / सूचनाकर्ता):\\n(a)\\nName (नाम): सुधीर   \\n(b)\\nFather's Name (पिताका नाम): मनवीर सिंह\\n(d)  Nationality (राष्ट्रीयता): INDIA\\n(c)\\nDate/Year of Birth (जन्म तिथि / वर्ष): 1979 \\n(e)\\nUID No. (यूआईडी सं.): \\n(f)\\nPassport No. (पासपोर्ट सं.): \\nDate of Issue (जारी करने की तिथि): \\nPlace of Issue (जारी करने का स्थान): \\n(g)\\nOccupation (व्यवसाय): \\n(h)\\nAddress (पता):\\nS.No. (क्र.सं.)\\nAddress Type (पता का प्रकार)\\nAddress (पता)\\n1\\nPresent Address\\nचोला, BULANDSHAHAR, UTTAR PRADESH, INDIA\\n2\\nPermanent Address\\nचोला, BULANDSHAHAR, UTTAR PRADESH, INDIA\\n(i)\\nPhone number (दूरभाष सं.): \\nMobile (मोबाइल सं.): \\n7.\\nDetails of known / suspected / unknown accused with full particulars (ज्ञात / संदिग्ध / अज्ञात अभियुक्त का पूरे विवरण सहित वर्णन):\\n  S. No. (क्र.सं.) \\nName (नाम)\\nAlias (उपनाम)\\nRelative's Name (रिश्तेदार का नाम)\\n        8.\\nReasons for delay in reporting by the complainant / informant (शिकायतकर्ता / सूचनाकर्ता द्वारा रिपोर्ट देरी से दर्ज कराने के कारण):\\n  9.\\nParticulars of properties of interest (संबन्धित सम्पत्ति का विवरण):\\nS. No. (क्र.सं.)\\nProperty Type (सम्पत्ति के प्रकार)\\nSub Type (उप प्रकार)\\nValue(In Rs/-) (मूल्य (रु में))\\n        10.\\nTotal value of property stolen (In Rs/-) (चोरी हुई सम्पत्ति का कुल मूल्य(रु में)): \\nSystem IP (आईपी):10.194.54.12\\n20/03/2024 12:39:48\\n1/2\",\n",
       " \"HARYANA POLICE CITIZEN SERVICES (हरियाणा पुलिस नागरिक सेवा)\\n    FIRST INFORMATION REPORT\\n         (Under Section 154 Cr.P.C.)\\n        प्रथम सूचना रिपोर्ट\\n (धारा 154 दंड प्रक्रिया सहिंता के तहत)\\n1.\\nDistrict (ज़िला): FARIDABAD\\nP.S. (थाना): BHUPANI\\nYear (वर्ष): 2019\\nFIR No. (प्र.सू.रि. सं.): 0010\\nDate (दिनांक): 16/01/2019 12:51\\n2.\\nS.No. (क्र.सं.)\\nActs (अधिनियम)\\nSections (धारा(एँ))\\n1\\nIPC 1860\\n174-A\\n3.\\n(a)\\nOccurrence of offence (अपराध की घटना):\\nDate from (दिनांक से): \\n1\\nDay (दिन): \\nDate To (दिनांक तक): \\nTime Period (समय अवधि): \\nTime To (समय तक): \\nTime From (समय से): \\n(b)\\nInformation received at P.S. (थाना जहां सूचना प्राप्त हुई):\\nDate (दिनांक): 16/01/2019\\nTime (समय): 10:30 hrs\\n(c)\\nGeneral Diary Reference (रोजनामचा संदर्भ): \\nEntry No. (प्रविष्टि सं.):  010\\nTime (समय): 16/01/2019 12:43 hrs\\n4.\\nType of Information (सूचना का प्रकार): Written\\n5.\\nPlace of Occurrence (घटनास्थल): \\n1.\\n(a) Direction and distance from P.S. (थाना से दूरी और दिशा):  \\nBeat No. (बीट सं.): \\n(b) Address (पता): COURT SEC 12,\\n(c) In case, outside the limit of this Police Station, then  Name of P.S. (यदि थाना सीमा के बाहर है तो थाना का नाम): \\n   District (State) (जिला (राज्य)): FARIDABAD (HARYANA)\\n6.\\nComplainant / Informant (शिकायतकर्ता / सूचनाकर्ता):\\n(a)\\nName (नाम): MS GARIMA YADAV   \\n(b)\\nFather's/Husband's Name (पिता/पति का नाम): \\n(d)  Nationality (राष्ट्रीयता): INDIA\\n(c)\\nDate/Year of Birth (जन्म तिथि / वर्ष): 1984 \\n(e)\\nUID No. (यूआईडी सं.): \\n(f)\\nPassport No. (पासपोर्ट सं.): \\nDate of Issue (जारी करने की तिथि): \\nPlace of Issue (जारी करने का स्थान): \\n(g)\\nOccupation (व्यवसाय): \\n(h)\\nAddress (पता):\\nS.No. (क्र.सं.)\\nAddress Type (पता का प्रकार)\\nAddress (पता)\\n1\\nPresent Address\\nCOURT SEC- 12, FARIDABAD, HARYANA, INDIA\\n2\\nPermanent Address\\nCOURT SEC- 12, FARIDABAD, HARYANA, INDIA\\n(i)\\nPhone number (दूरभाष सं.): \\nMobile (मोबाइल सं.): \\n7.\\nDetails of known / suspected / unknown accused with full particulars (ज्ञात / संदिग्ध / अज्ञात अभियुक्त का पूरे विवरण सहित वर्णन):\\n  S. No. (क्र.सं.) \\nName (नाम)\\nAlias (उपनाम)\\nRelative's Name (रिश्तेदार का नाम)\\n1\\nरिन्कू   \\n  Father's Name: कल्लू\\n8.\\nReasons for delay in reporting by the complainant / informant (शिकायतकर्ता / सूचनाकर्ता द्वारा रिपोर्ट देरी से दर्ज कराने के कारण):\\n  9.\\nParticulars of properties of interest (संबन्धित सम्पत्ति का विवरण):\\nS. No. (क्र.सं.)\\nProperty Type (सम्पत्ति के प्रकार)\\nSub Type (उप प्रकार)\\nValue(In Rs/-) (मूल्य (रु में))\\n        10.\\nTotal value of property stolen (In Rs/-) (चोरी हुई सम्पत्ति का कुल मूल्य(रु में)): \\nSystem IP (आईपी):10.194.54.12\\n20/03/2024 12:40:14\\n1/2\"]"
      ]
     },
     "execution_count": 381,
     "metadata": {},
     "output_type": "execute_result"
    }
   ],
   "source": [
    "first_page_data"
   ]
  },
  {
   "cell_type": "code",
   "execution_count": 396,
   "id": "57d5a236-8b9e-42c8-b6f8-b4f10b4ded2e",
   "metadata": {},
   "outputs": [],
   "source": [
    "corpus = pd.DataFrame(zip(fir_texts, first_page_data), columns=[\"fir_text\", \"metadata_html\"])\n",
    "corpus.to_csv(\"test_files.csv\")"
   ]
  },
  {
   "cell_type": "code",
   "execution_count": 377,
   "id": "702bd8bd-6269-401b-9f11-f5c5a26e2ead",
   "metadata": {},
   "outputs": [],
   "source": [
    "driver.close()"
   ]
  }
 ],
 "metadata": {
  "kernelspec": {
   "display_name": "Python 3 (ipykernel)",
   "language": "python",
   "name": "python3"
  },
  "language_info": {
   "codemirror_mode": {
    "name": "ipython",
    "version": 3
   },
   "file_extension": ".py",
   "mimetype": "text/x-python",
   "name": "python",
   "nbconvert_exporter": "python",
   "pygments_lexer": "ipython3",
   "version": "3.9.18"
  }
 },
 "nbformat": 4,
 "nbformat_minor": 5
}
